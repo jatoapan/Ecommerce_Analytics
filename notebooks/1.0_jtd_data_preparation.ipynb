{
 "cells": [
  {
   "cell_type": "code",
   "execution_count": 67,
   "id": "f03c6920",
   "metadata": {},
   "outputs": [],
   "source": [
    "from Ecommerce_Analytics.utils.paths import data_raw_dir\n",
    "from Ecommerce_Analytics.plot import plot_completeness_barplot, plot_uniqueness_barplot\n",
    "import pandas as pd\n",
    "import numpy as np"
   ]
  },
  {
   "cell_type": "code",
   "execution_count": 68,
   "id": "b0bde19c",
   "metadata": {},
   "outputs": [
    {
     "data": {
      "text/html": [
       "<div>\n",
       "<style scoped>\n",
       "    .dataframe tbody tr th:only-of-type {\n",
       "        vertical-align: middle;\n",
       "    }\n",
       "\n",
       "    .dataframe tbody tr th {\n",
       "        vertical-align: top;\n",
       "    }\n",
       "\n",
       "    .dataframe thead th {\n",
       "        text-align: right;\n",
       "    }\n",
       "</style>\n",
       "<table border=\"1\" class=\"dataframe\">\n",
       "  <thead>\n",
       "    <tr style=\"text-align: right;\">\n",
       "      <th></th>\n",
       "      <th>customer_id</th>\n",
       "      <th>order_city</th>\n",
       "      <th>order_postal</th>\n",
       "      <th>order_state</th>\n",
       "      <th>latitude</th>\n",
       "      <th>longitude</th>\n",
       "    </tr>\n",
       "  </thead>\n",
       "  <tbody>\n",
       "    <tr>\n",
       "      <th>0</th>\n",
       "      <td>18287</td>\n",
       "      <td>Rock Springs</td>\n",
       "      <td>82901-7321</td>\n",
       "      <td>WY</td>\n",
       "      <td>41.5869</td>\n",
       "      <td>-109.2048</td>\n",
       "    </tr>\n",
       "    <tr>\n",
       "      <th>1</th>\n",
       "      <td>18283</td>\n",
       "      <td>JACKSON</td>\n",
       "      <td>83001-9460</td>\n",
       "      <td>WY</td>\n",
       "      <td>43.4800</td>\n",
       "      <td>-110.7618</td>\n",
       "    </tr>\n",
       "    <tr>\n",
       "      <th>2</th>\n",
       "      <td>18282</td>\n",
       "      <td>Greybull</td>\n",
       "      <td>82426</td>\n",
       "      <td>WY</td>\n",
       "      <td>44.4892</td>\n",
       "      <td>-108.0562</td>\n",
       "    </tr>\n",
       "    <tr>\n",
       "      <th>3</th>\n",
       "      <td>18281</td>\n",
       "      <td>EVANSTON</td>\n",
       "      <td>82930-4706</td>\n",
       "      <td>WY</td>\n",
       "      <td>41.2680</td>\n",
       "      <td>-110.9633</td>\n",
       "    </tr>\n",
       "    <tr>\n",
       "      <th>4</th>\n",
       "      <td>18280</td>\n",
       "      <td>CHEYENNE</td>\n",
       "      <td>82001-7901</td>\n",
       "      <td>WY</td>\n",
       "      <td>41.1400</td>\n",
       "      <td>-104.8202</td>\n",
       "    </tr>\n",
       "  </tbody>\n",
       "</table>\n",
       "</div>"
      ],
      "text/plain": [
       "   customer_id    order_city order_postal order_state  latitude  longitude\n",
       "0        18287  Rock Springs   82901-7321          WY   41.5869  -109.2048\n",
       "1        18283       JACKSON   83001-9460          WY   43.4800  -110.7618\n",
       "2        18282      Greybull        82426          WY   44.4892  -108.0562\n",
       "3        18281      EVANSTON   82930-4706          WY   41.2680  -110.9633\n",
       "4        18280      CHEYENNE   82001-7901          WY   41.1400  -104.8202"
      ]
     },
     "execution_count": 68,
     "metadata": {},
     "output_type": "execute_result"
    }
   ],
   "source": [
    "raw_data_path = data_raw_dir(\"customer.csv\")\n",
    "customer_df = pd.read_csv(raw_data_path)\n",
    "customer_df.head()"
   ]
  },
  {
   "cell_type": "code",
   "execution_count": 69,
   "id": "1f6701e3",
   "metadata": {},
   "outputs": [
    {
     "data": {
      "text/html": [
       "<div>\n",
       "<style scoped>\n",
       "    .dataframe tbody tr th:only-of-type {\n",
       "        vertical-align: middle;\n",
       "    }\n",
       "\n",
       "    .dataframe tbody tr th {\n",
       "        vertical-align: top;\n",
       "    }\n",
       "\n",
       "    .dataframe thead th {\n",
       "        text-align: right;\n",
       "    }\n",
       "</style>\n",
       "<table border=\"1\" class=\"dataframe\">\n",
       "  <thead>\n",
       "    <tr style=\"text-align: right;\">\n",
       "      <th></th>\n",
       "      <th>order_state</th>\n",
       "      <th>state_abbreviation</th>\n",
       "      <th>region</th>\n",
       "      <th>state</th>\n",
       "    </tr>\n",
       "  </thead>\n",
       "  <tbody>\n",
       "    <tr>\n",
       "      <th>0</th>\n",
       "      <td>AE</td>\n",
       "      <td>AE</td>\n",
       "      <td>Other</td>\n",
       "      <td>Armed Forces Europe</td>\n",
       "    </tr>\n",
       "    <tr>\n",
       "      <th>1</th>\n",
       "      <td>ak</td>\n",
       "      <td>AK</td>\n",
       "      <td>Other</td>\n",
       "      <td>Alaska</td>\n",
       "    </tr>\n",
       "    <tr>\n",
       "      <th>2</th>\n",
       "      <td>AK</td>\n",
       "      <td>AK</td>\n",
       "      <td>Other</td>\n",
       "      <td>Alaska</td>\n",
       "    </tr>\n",
       "    <tr>\n",
       "      <th>3</th>\n",
       "      <td>AL</td>\n",
       "      <td>AL</td>\n",
       "      <td>East</td>\n",
       "      <td>Alabama</td>\n",
       "    </tr>\n",
       "    <tr>\n",
       "      <th>4</th>\n",
       "      <td>ALABAMA</td>\n",
       "      <td>AL</td>\n",
       "      <td>East</td>\n",
       "      <td>Alabama</td>\n",
       "    </tr>\n",
       "  </tbody>\n",
       "</table>\n",
       "</div>"
      ],
      "text/plain": [
       "  order_state state_abbreviation region                state\n",
       "0          AE                 AE  Other  Armed Forces Europe\n",
       "1          ak                 AK  Other               Alaska\n",
       "2          AK                 AK  Other               Alaska\n",
       "3          AL                 AL   East              Alabama\n",
       "4     ALABAMA                 AL   East              Alabama"
      ]
     },
     "execution_count": 69,
     "metadata": {},
     "output_type": "execute_result"
    }
   ],
   "source": [
    "raw_data_path = data_raw_dir(\"state.csv\")\n",
    "state_df = pd.read_csv(raw_data_path)\n",
    "state_df.head()"
   ]
  },
  {
   "cell_type": "code",
   "execution_count": 70,
   "id": "70a6b98f",
   "metadata": {},
   "outputs": [
    {
     "name": "stdout",
     "output_type": "stream",
     "text": [
      "<class 'pandas.core.frame.DataFrame'>\n",
      "RangeIndex: 4372 entries, 0 to 4371\n",
      "Data columns (total 6 columns):\n",
      " #   Column        Non-Null Count  Dtype  \n",
      "---  ------        --------------  -----  \n",
      " 0   customer_id   4372 non-null   int64  \n",
      " 1   order_city    4372 non-null   object \n",
      " 2   order_postal  4372 non-null   object \n",
      " 3   order_state   4372 non-null   object \n",
      " 4   latitude      4282 non-null   float64\n",
      " 5   longitude     4282 non-null   float64\n",
      "dtypes: float64(2), int64(1), object(3)\n",
      "memory usage: 205.1+ KB\n"
     ]
    }
   ],
   "source": [
    "customer_df.info()"
   ]
  },
  {
   "cell_type": "code",
   "execution_count": 71,
   "id": "adc8bed1",
   "metadata": {},
   "outputs": [
    {
     "data": {
      "image/png": "[encoded data removed]",
      "text/plain": [
       "<Figure size 654.875x500 with 1 Axes>"
      ]
     },
     "metadata": {},
     "output_type": "display_data"
    }
   ],
   "source": [
    "customer_df_columns = list(customer_df.columns)\n",
    "plot_completeness_barplot(df=customer_df,column=customer_df_columns,df_name=\"Customer\")"
   ]
  },
  {
   "cell_type": "code",
   "execution_count": 72,
   "id": "2516c782",
   "metadata": {},
   "outputs": [
    {
     "data": {
      "text/html": [
       "<div>\n",
       "<style scoped>\n",
       "    .dataframe tbody tr th:only-of-type {\n",
       "        vertical-align: middle;\n",
       "    }\n",
       "\n",
       "    .dataframe tbody tr th {\n",
       "        vertical-align: top;\n",
       "    }\n",
       "\n",
       "    .dataframe thead th {\n",
       "        text-align: right;\n",
       "    }\n",
       "</style>\n",
       "<table border=\"1\" class=\"dataframe\">\n",
       "  <thead>\n",
       "    <tr style=\"text-align: right;\">\n",
       "      <th></th>\n",
       "      <th>customer_id</th>\n",
       "      <th>order_city</th>\n",
       "      <th>order_postal</th>\n",
       "      <th>order_state</th>\n",
       "      <th>latitude</th>\n",
       "      <th>longitude</th>\n",
       "    </tr>\n",
       "  </thead>\n",
       "  <tbody>\n",
       "  </tbody>\n",
       "</table>\n",
       "</div>"
      ],
      "text/plain": [
       "Empty DataFrame\n",
       "Columns: [customer_id, order_city, order_postal, order_state, latitude, longitude]\n",
       "Index: []"
      ]
     },
     "execution_count": 72,
     "metadata": {},
     "output_type": "execute_result"
    }
   ],
   "source": [
    "duplicated_rows = customer_df.duplicated(keep=False)\n",
    "customer_df[duplicated_rows]"
   ]
  },
  {
   "cell_type": "code",
   "execution_count": 73,
   "id": "918481f4",
   "metadata": {},
   "outputs": [
    {
     "data": {
      "image/png": "[encoded data removed]",
      "text/plain": [
       "<Figure size 500x500 with 1 Axes>"
      ]
     },
     "metadata": {},
     "output_type": "display_data"
    }
   ],
   "source": [
    "plot_uniqueness_barplot(df=customer_df,column=customer_df_columns,df_name=\"Customer\")"
   ]
  },
  {
   "cell_type": "code",
   "execution_count": 74,
   "id": "5229555a",
   "metadata": {},
   "outputs": [
    {
     "data": {
      "text/plain": [
       "array(['WY', 'WV', 'Wisconsin', 'WI', 'wi', 'Wi', 'WEST VIRGINIA',\n",
       "       'WASHINGTON', 'Washington', 'WA', 'wa', 'Wa', 'VT', 'VIRGINIA',\n",
       "       'Virginia', 'VERMONT', 'Va.', 'VA', 'va', 'Va', 'UTAH', 'Utah',\n",
       "       'UT', 'Tx', 'TX', 'tx', 'TN', 'tn', 'Texas', 'TEXAS', 'texas',\n",
       "       'Tennessee', 'TENNESSEE', 'South Carolina', 'SOUTH CAROLINA', 'SD',\n",
       "       'SC', 'sc', 'RI', 'ri', 'Rhode Island', 'RHODE ISLAND', 'ALASKA',\n",
       "       'Alaska', 'Delaware', 'DE', 'Pennsylvania', 'PENNSYLVANIA', 'Pa.',\n",
       "       'PA', 'Pa', 'pa', 'OREGON', 'Oregon', 'OR', 'or', 'Or', 'OKLAHOMA',\n",
       "       'Oklahoma', 'OK', 'Ok', 'ok', 'Ohio', 'OHIO', 'OH', 'oh', 'NY',\n",
       "       'ny', 'Ny', 'NV', 'North Carolina', 'NORTH CAROLINA', 'NM', 'NJ',\n",
       "       'nj', 'Nj', 'NH', 'nh', 'NEW YORK', 'new york', 'New York',\n",
       "       'New Mexico', 'NEW MEXICO', 'New Jersey', 'new jersey',\n",
       "       'NEW JERSEY', 'New Hampshire', 'NEVADA', 'Nebraska', 'NE', 'Ne',\n",
       "       'ND', 'NC', 'nc', 'N.Y.', 'N.C.', 'n.c.', 'MT', 'MS', 'MONTANA',\n",
       "       'MO', 'mo', 'MN', 'Mn', 'Missouri', 'MISSOURI', 'Mississippi',\n",
       "       'Minnesota', 'MINNESOTA', 'MICHIGAN', 'Michigan', 'michigan', 'MI',\n",
       "       'Mi', 'mi', 'ME', 'MD', 'Md', 'Massachusetts', 'MASSACHUSETTS',\n",
       "       'Maryland', 'MARYLAND', 'MAINE', 'ma', 'MA', 'Ma', 'LOUISIANA',\n",
       "       'Louisiana', 'LA', 'La', 'KY.', 'KY', 'Ky', 'KS', 'Ks', 'KENTUCKY',\n",
       "       'KANSAS', 'Kansas', 'Iowa', 'IOWA', 'Indiana', 'INDIANA',\n",
       "       'indiana', 'IN.', 'IN', 'In', 'in', 'Illinois', 'ILLINOIS',\n",
       "       'illinois', 'IL.', 'IL', 'il', 'Il', 'IDAHO', 'Idaho', 'ID', 'IA',\n",
       "       'Ia', 'HI', 'Hawaii', 'HAWAII', 'Georgia', 'GEORGIA', 'georgia',\n",
       "       'GA', 'ga', 'FLORIDA', 'Florida', 'florida', 'FL', 'Fl', 'fl',\n",
       "       'District of Columbia', 'De', 'DC', 'CT', 'Ct', 'ct',\n",
       "       'CONNECTICUT', 'Connecticut', 'COLORADO', 'Colorado', 'CO', 'co',\n",
       "       'Co', 'california', 'CALIFORNIA', 'California', 'Ca.', 'CA', 'ca',\n",
       "       'Ca', 'Az.', 'AZ', 'Az', 'Arkansas', 'Arizona', 'ARIZONA', 'AR',\n",
       "       'ALABAMA', 'Alabama', 'AL', 'Al', 'AK', 'ak'], dtype=object)"
      ]
     },
     "execution_count": 74,
     "metadata": {},
     "output_type": "execute_result"
    }
   ],
   "source": [
    "customer_df[\"order_state\"].unique()"
   ]
  },
  {
   "cell_type": "code",
   "execution_count": 75,
   "id": "a896b56b",
   "metadata": {},
   "outputs": [
    {
     "data": {
      "text/plain": [
       "array(['WY', 'WV', 'WI', 'WA', 'VT', 'VA', 'UT', 'TX', 'TN', 'SC', 'SD',\n",
       "       'RI', 'AK', 'DE', 'PA', 'OR', 'OK', 'OH', 'NY', 'NV', 'NC', 'NM',\n",
       "       'NJ', 'NH', 'NE', 'ND', 'MT', 'MS', 'MO', 'MN', 'MI', 'ME', 'MD',\n",
       "       'MA', 'LA', 'KY', 'KS', 'IA', 'IN', 'IL', 'ID', 'HI', 'GA', 'FL',\n",
       "       'DC', 'CT', 'CO', 'CA', 'AZ', 'AR', 'AL'], dtype=object)"
      ]
     },
     "execution_count": 75,
     "metadata": {},
     "output_type": "execute_result"
    }
   ],
   "source": [
    "state_df[\"order_state\"] = state_df[\"order_state\"].str.replace(r\"[,.:;_\\-]\", \"\", regex=True).str.capitalize()\n",
    "state_df[\"state\"] = state_df[\"state\"].str.replace(r\"[,.:;_\\-]\", \"\", regex=True).str.capitalize()\n",
    "\n",
    "customer_df[\"order_state\"] = customer_df[\"order_state\"].str.replace(r\"[,.:;_\\-]\", \"\", regex=True).str.capitalize()\n",
    "map1 = dict(state_df[[\"order_state\", \"state_abbreviation\"]].drop_duplicates().values)\n",
    "map2 = dict(state_df[[\"state\", \"state_abbreviation\"]].drop_duplicates().values)\n",
    "mapping = map1 | map2\n",
    "customer_df[\"order_state\"] = customer_df[\"order_state\"].replace(mapping)\n",
    "\n",
    "customer_df[\"order_state\"].unique()"
   ]
  },
  {
   "cell_type": "code",
   "execution_count": 76,
   "id": "0dac0709",
   "metadata": {},
   "outputs": [],
   "source": [
    "customer_df[\"order_state\"] = customer_df[\"order_state\"].astype(\"category\")"
   ]
  },
  {
   "cell_type": "code",
   "execution_count": 77,
   "id": "546f8dc4",
   "metadata": {},
   "outputs": [
    {
     "data": {
      "text/plain": [
       "array(['Rock Springs', 'JACKSON', 'Greybull', ..., 'Kodiak', 'anchorage',\n",
       "       'ANCHORAGE'], dtype=object)"
      ]
     },
     "execution_count": 77,
     "metadata": {},
     "output_type": "execute_result"
    }
   ],
   "source": [
    "customer_df[\"order_city\"].unique()"
   ]
  },
  {
   "cell_type": "code",
   "execution_count": 78,
   "id": "d2f57003",
   "metadata": {},
   "outputs": [
    {
     "data": {
      "text/plain": [
       "array(['Rock springs', 'Jackson', 'Greybull', ..., 'Abbeville', 'Kodiak',\n",
       "       'Anchorage'], dtype=object)"
      ]
     },
     "execution_count": 78,
     "metadata": {},
     "output_type": "execute_result"
    }
   ],
   "source": [
    "customer_df[\"order_city\"] = customer_df[\"order_city\"].replace(r\"[,.:;_\\-]\", \"\", regex=True).str.capitalize()\n",
    "customer_df[\"order_city\"].unique()"
   ]
  },
  {
   "cell_type": "code",
   "execution_count": 79,
   "id": "de34411c",
   "metadata": {},
   "outputs": [],
   "source": [
    "customer_df[\"order_city\"] = customer_df[\"order_city\"].astype(\"category\")"
   ]
  },
  {
   "cell_type": "code",
   "execution_count": 80,
   "id": "5ff3bf1a",
   "metadata": {},
   "outputs": [
    {
     "data": {
      "text/html": [
       "<div>\n",
       "<style scoped>\n",
       "    .dataframe tbody tr th:only-of-type {\n",
       "        vertical-align: middle;\n",
       "    }\n",
       "\n",
       "    .dataframe tbody tr th {\n",
       "        vertical-align: top;\n",
       "    }\n",
       "\n",
       "    .dataframe thead th {\n",
       "        text-align: right;\n",
       "    }\n",
       "</style>\n",
       "<table border=\"1\" class=\"dataframe\">\n",
       "  <thead>\n",
       "    <tr style=\"text-align: right;\">\n",
       "      <th></th>\n",
       "      <th>customer_id</th>\n",
       "      <th>order_city</th>\n",
       "      <th>order_postal</th>\n",
       "      <th>order_state</th>\n",
       "      <th>latitude</th>\n",
       "      <th>longitude</th>\n",
       "    </tr>\n",
       "  </thead>\n",
       "  <tbody>\n",
       "  </tbody>\n",
       "</table>\n",
       "</div>"
      ],
      "text/plain": [
       "Empty DataFrame\n",
       "Columns: [customer_id, order_city, order_postal, order_state, latitude, longitude]\n",
       "Index: []"
      ]
     },
     "execution_count": 80,
     "metadata": {},
     "output_type": "execute_result"
    }
   ],
   "source": [
    "duplicated_rows = customer_df.duplicated(keep=False)\n",
    "customer_df[duplicated_rows]"
   ]
  },
  {
   "cell_type": "code",
   "execution_count": 81,
   "id": "8f992aab",
   "metadata": {},
   "outputs": [
    {
     "name": "stdout",
     "output_type": "stream",
     "text": [
      "<class 'pandas.core.frame.DataFrame'>\n",
      "RangeIndex: 4372 entries, 0 to 4371\n",
      "Data columns (total 6 columns):\n",
      " #   Column        Non-Null Count  Dtype   \n",
      "---  ------        --------------  -----   \n",
      " 0   customer_id   4372 non-null   int64   \n",
      " 1   order_city    4372 non-null   category\n",
      " 2   order_postal  4372 non-null   object  \n",
      " 3   order_state   4372 non-null   category\n",
      " 4   latitude      4282 non-null   float64 \n",
      " 5   longitude     4282 non-null   float64 \n",
      "dtypes: category(2), float64(2), int64(1), object(1)\n",
      "memory usage: 233.9+ KB\n"
     ]
    }
   ],
   "source": [
    "customer_df.info()"
   ]
  },
  {
   "cell_type": "code",
   "execution_count": 82,
   "id": "b5998fe4",
   "metadata": {},
   "outputs": [
    {
     "data": {
      "text/html": [
       "<div>\n",
       "<style scoped>\n",
       "    .dataframe tbody tr th:only-of-type {\n",
       "        vertical-align: middle;\n",
       "    }\n",
       "\n",
       "    .dataframe tbody tr th {\n",
       "        vertical-align: top;\n",
       "    }\n",
       "\n",
       "    .dataframe thead th {\n",
       "        text-align: right;\n",
       "    }\n",
       "</style>\n",
       "<table border=\"1\" class=\"dataframe\">\n",
       "  <thead>\n",
       "    <tr style=\"text-align: right;\">\n",
       "      <th></th>\n",
       "      <th>order_state</th>\n",
       "      <th>state_abbreviation</th>\n",
       "      <th>region</th>\n",
       "      <th>state</th>\n",
       "    </tr>\n",
       "  </thead>\n",
       "  <tbody>\n",
       "    <tr>\n",
       "      <th>0</th>\n",
       "      <td>AE</td>\n",
       "      <td>AE</td>\n",
       "      <td>Other</td>\n",
       "      <td>Armed Forces Europe</td>\n",
       "    </tr>\n",
       "    <tr>\n",
       "      <th>1</th>\n",
       "      <td>ak</td>\n",
       "      <td>AK</td>\n",
       "      <td>Other</td>\n",
       "      <td>Alaska</td>\n",
       "    </tr>\n",
       "    <tr>\n",
       "      <th>2</th>\n",
       "      <td>AK</td>\n",
       "      <td>AK</td>\n",
       "      <td>Other</td>\n",
       "      <td>Alaska</td>\n",
       "    </tr>\n",
       "    <tr>\n",
       "      <th>3</th>\n",
       "      <td>AL</td>\n",
       "      <td>AL</td>\n",
       "      <td>East</td>\n",
       "      <td>Alabama</td>\n",
       "    </tr>\n",
       "    <tr>\n",
       "      <th>4</th>\n",
       "      <td>ALABAMA</td>\n",
       "      <td>AL</td>\n",
       "      <td>East</td>\n",
       "      <td>Alabama</td>\n",
       "    </tr>\n",
       "  </tbody>\n",
       "</table>\n",
       "</div>"
      ],
      "text/plain": [
       "  order_state state_abbreviation region                state\n",
       "0          AE                 AE  Other  Armed Forces Europe\n",
       "1          ak                 AK  Other               Alaska\n",
       "2          AK                 AK  Other               Alaska\n",
       "3          AL                 AL   East              Alabama\n",
       "4     ALABAMA                 AL   East              Alabama"
      ]
     },
     "execution_count": 82,
     "metadata": {},
     "output_type": "execute_result"
    }
   ],
   "source": [
    "raw_data_path = data_raw_dir(\"state.csv\")\n",
    "state_df = pd.read_csv(raw_data_path)\n",
    "state_df.head()"
   ]
  },
  {
   "cell_type": "code",
   "execution_count": 83,
   "id": "20992786",
   "metadata": {},
   "outputs": [],
   "source": [
    "state_df.drop(columns=[\"order_state\"],inplace=True)\n",
    "state_df.rename(columns={\"state_abbreviation\":\"order_state\"},inplace=True)"
   ]
  },
  {
   "cell_type": "code",
   "execution_count": 84,
   "id": "af12c2cf",
   "metadata": {},
   "outputs": [
    {
     "name": "stdout",
     "output_type": "stream",
     "text": [
      "<class 'pandas.core.frame.DataFrame'>\n",
      "RangeIndex: 192 entries, 0 to 191\n",
      "Data columns (total 3 columns):\n",
      " #   Column       Non-Null Count  Dtype \n",
      "---  ------       --------------  ----- \n",
      " 0   order_state  192 non-null    object\n",
      " 1   region       192 non-null    object\n",
      " 2   state        192 non-null    object\n",
      "dtypes: object(3)\n",
      "memory usage: 4.6+ KB\n"
     ]
    }
   ],
   "source": [
    "state_df.info()"
   ]
  },
  {
   "cell_type": "code",
   "execution_count": 85,
   "id": "11036eec",
   "metadata": {},
   "outputs": [
    {
     "data": {
      "image/png": "[encoded data removed]",
      "text/plain": [
       "<Figure size 654.875x500 with 1 Axes>"
      ]
     },
     "metadata": {},
     "output_type": "display_data"
    }
   ],
   "source": [
    "state_df_columns = list(state_df.columns)\n",
    "plot_completeness_barplot(df=state_df,column=state_df_columns,df_name=\"State\")"
   ]
  },
  {
   "cell_type": "code",
   "execution_count": 86,
   "id": "d720d3df",
   "metadata": {},
   "outputs": [
    {
     "data": {
      "text/html": [
       "<div>\n",
       "<style scoped>\n",
       "    .dataframe tbody tr th:only-of-type {\n",
       "        vertical-align: middle;\n",
       "    }\n",
       "\n",
       "    .dataframe tbody tr th {\n",
       "        vertical-align: top;\n",
       "    }\n",
       "\n",
       "    .dataframe thead th {\n",
       "        text-align: right;\n",
       "    }\n",
       "</style>\n",
       "<table border=\"1\" class=\"dataframe\">\n",
       "  <thead>\n",
       "    <tr style=\"text-align: right;\">\n",
       "      <th></th>\n",
       "      <th>order_state</th>\n",
       "      <th>region</th>\n",
       "      <th>state</th>\n",
       "    </tr>\n",
       "  </thead>\n",
       "  <tbody>\n",
       "    <tr>\n",
       "      <th>1</th>\n",
       "      <td>AK</td>\n",
       "      <td>Other</td>\n",
       "      <td>Alaska</td>\n",
       "    </tr>\n",
       "    <tr>\n",
       "      <th>2</th>\n",
       "      <td>AK</td>\n",
       "      <td>Other</td>\n",
       "      <td>Alaska</td>\n",
       "    </tr>\n",
       "    <tr>\n",
       "      <th>3</th>\n",
       "      <td>AL</td>\n",
       "      <td>East</td>\n",
       "      <td>Alabama</td>\n",
       "    </tr>\n",
       "    <tr>\n",
       "      <th>4</th>\n",
       "      <td>AL</td>\n",
       "      <td>East</td>\n",
       "      <td>Alabama</td>\n",
       "    </tr>\n",
       "    <tr>\n",
       "      <th>5</th>\n",
       "      <td>AK</td>\n",
       "      <td>Other</td>\n",
       "      <td>Alaska</td>\n",
       "    </tr>\n",
       "    <tr>\n",
       "      <th>...</th>\n",
       "      <td>...</td>\n",
       "      <td>...</td>\n",
       "      <td>...</td>\n",
       "    </tr>\n",
       "    <tr>\n",
       "      <th>186</th>\n",
       "      <td>WI</td>\n",
       "      <td>Central</td>\n",
       "      <td>Wisconsin</td>\n",
       "    </tr>\n",
       "    <tr>\n",
       "      <th>187</th>\n",
       "      <td>WI</td>\n",
       "      <td>Central</td>\n",
       "      <td>Wisconsin</td>\n",
       "    </tr>\n",
       "    <tr>\n",
       "      <th>188</th>\n",
       "      <td>WI</td>\n",
       "      <td>Central</td>\n",
       "      <td>Wisconsin</td>\n",
       "    </tr>\n",
       "    <tr>\n",
       "      <th>189</th>\n",
       "      <td>WI</td>\n",
       "      <td>Central</td>\n",
       "      <td>Wisconsin</td>\n",
       "    </tr>\n",
       "    <tr>\n",
       "      <th>190</th>\n",
       "      <td>WV</td>\n",
       "      <td>East</td>\n",
       "      <td>West Virginia</td>\n",
       "    </tr>\n",
       "  </tbody>\n",
       "</table>\n",
       "<p>184 rows × 3 columns</p>\n",
       "</div>"
      ],
      "text/plain": [
       "    order_state   region          state\n",
       "1            AK    Other         Alaska\n",
       "2            AK    Other         Alaska\n",
       "3            AL     East        Alabama\n",
       "4            AL     East        Alabama\n",
       "5            AK    Other         Alaska\n",
       "..          ...      ...            ...\n",
       "186          WI  Central      Wisconsin\n",
       "187          WI  Central      Wisconsin\n",
       "188          WI  Central      Wisconsin\n",
       "189          WI  Central      Wisconsin\n",
       "190          WV     East  West Virginia\n",
       "\n",
       "[184 rows x 3 columns]"
      ]
     },
     "execution_count": 86,
     "metadata": {},
     "output_type": "execute_result"
    }
   ],
   "source": [
    "duplicated_rows = state_df.duplicated(keep=False)\n",
    "state_df[duplicated_rows]"
   ]
  },
  {
   "cell_type": "code",
   "execution_count": 87,
   "id": "e419ff81",
   "metadata": {},
   "outputs": [],
   "source": [
    "state_df.drop_duplicates(inplace=True)"
   ]
  },
  {
   "cell_type": "code",
   "execution_count": 88,
   "id": "8017f6b4",
   "metadata": {},
   "outputs": [
    {
     "data": {
      "image/png": "[encoded data removed]",
      "text/plain": [
       "<Figure size 500x500 with 1 Axes>"
      ]
     },
     "metadata": {},
     "output_type": "display_data"
    }
   ],
   "source": [
    "plot_uniqueness_barplot(df=state_df,column=state_df_columns,df_name=\"State\")"
   ]
  },
  {
   "cell_type": "code",
   "execution_count": 89,
   "id": "eb05e08d",
   "metadata": {},
   "outputs": [
    {
     "data": {
      "text/plain": [
       "array(['Armed Forces Europe', 'Alaska', 'Alabama', 'Arkansas', 'Arizona',\n",
       "       'California', 'Colorado', 'Connecticut', 'District of Columbia',\n",
       "       'Delaware', 'Florida', 'Georgia', 'Hawaii', 'Iowa', 'Idaho',\n",
       "       'Illinois', 'Indiana', 'Kansas', 'Kentucky', 'Louisiana',\n",
       "       'Massachusetts', 'Maine', 'Maryland', 'Michigan', 'Minnesota',\n",
       "       'Missouri', 'Montana', 'Mississippi', 'North Carolina', 'New York',\n",
       "       'North Dakota', 'Nebraska', 'Nevada', 'New Hampshire',\n",
       "       'New Jersey', 'New Mexico', 'Ohio', 'Oklahoma', 'Oregon',\n",
       "       'Pennsylvania', 'Puerto Rico', 'Rhode Island', 'South Carolina',\n",
       "       'South Dakota', 'Tennessee', 'Texas', 'Virgin Islands', 'Utah',\n",
       "       'Virginia', 'Vermont', 'Washington', 'West Virginia', 'Wisconsin',\n",
       "       'Wyoming'], dtype=object)"
      ]
     },
     "execution_count": 89,
     "metadata": {},
     "output_type": "execute_result"
    }
   ],
   "source": [
    "state_df[\"state\"].unique()"
   ]
  },
  {
   "cell_type": "code",
   "execution_count": 90,
   "id": "29b14fb6",
   "metadata": {},
   "outputs": [],
   "source": [
    "state_df[\"state\"] = state_df[\"state\"].astype(\"category\")"
   ]
  },
  {
   "cell_type": "code",
   "execution_count": 91,
   "id": "f9f58010",
   "metadata": {},
   "outputs": [
    {
     "data": {
      "text/plain": [
       "array(['Other', 'East', 'Central', 'West'], dtype=object)"
      ]
     },
     "execution_count": 91,
     "metadata": {},
     "output_type": "execute_result"
    }
   ],
   "source": [
    "state_df[\"region\"].unique()"
   ]
  },
  {
   "cell_type": "code",
   "execution_count": 92,
   "id": "21d1b842",
   "metadata": {},
   "outputs": [],
   "source": [
    "state_df[\"region\"] = state_df[\"region\"].astype(\"category\")"
   ]
  },
  {
   "cell_type": "code",
   "execution_count": 93,
   "id": "c82d4241",
   "metadata": {},
   "outputs": [
    {
     "data": {
      "text/plain": [
       "array(['AE', 'AK', 'AL', 'AR', 'AZ', 'CA', 'CO', 'CT', 'DC', 'DE', 'FL',\n",
       "       'GA', 'HI', 'IA', 'ID', 'IL', 'IN', 'KS', 'KY', 'LA', 'MA', 'ME',\n",
       "       'MD', 'MI', 'MN', 'MO', 'MT', 'MS', 'NC', 'NY', 'ND', 'NE', 'NV',\n",
       "       'NH', 'NJ', 'NM', 'OH', 'OK', 'OR', 'PA', 'PR', 'RI', 'SC', 'SD',\n",
       "       'TN', 'TX', 'VI', 'UT', 'VA', 'VT', 'WA', 'WV', 'WI', 'WY'],\n",
       "      dtype=object)"
      ]
     },
     "execution_count": 93,
     "metadata": {},
     "output_type": "execute_result"
    }
   ],
   "source": [
    "state_df[\"order_state\"].unique()"
   ]
  },
  {
   "cell_type": "code",
   "execution_count": 94,
   "id": "4c191f91",
   "metadata": {},
   "outputs": [],
   "source": [
    "state_df[\"order_state\"] = state_df[\"order_state\"].astype(\"category\")"
   ]
  },
  {
   "cell_type": "code",
   "execution_count": 95,
   "id": "d9db8193",
   "metadata": {},
   "outputs": [
    {
     "name": "stdout",
     "output_type": "stream",
     "text": [
      "<class 'pandas.core.frame.DataFrame'>\n",
      "Index: 54 entries, 0 to 191\n",
      "Data columns (total 3 columns):\n",
      " #   Column       Non-Null Count  Dtype   \n",
      "---  ------       --------------  -----   \n",
      " 0   order_state  54 non-null     category\n",
      " 1   region       54 non-null     category\n",
      " 2   state        54 non-null     category\n",
      "dtypes: category(3)\n",
      "memory usage: 5.7 KB\n"
     ]
    }
   ],
   "source": [
    "state_df.info()"
   ]
  },
  {
   "cell_type": "code",
   "execution_count": 96,
   "id": "3438c7e2",
   "metadata": {},
   "outputs": [
    {
     "data": {
      "text/html": [
       "<div>\n",
       "<style scoped>\n",
       "    .dataframe tbody tr th:only-of-type {\n",
       "        vertical-align: middle;\n",
       "    }\n",
       "\n",
       "    .dataframe tbody tr th {\n",
       "        vertical-align: top;\n",
       "    }\n",
       "\n",
       "    .dataframe thead th {\n",
       "        text-align: right;\n",
       "    }\n",
       "</style>\n",
       "<table border=\"1\" class=\"dataframe\">\n",
       "  <thead>\n",
       "    <tr style=\"text-align: right;\">\n",
       "      <th></th>\n",
       "      <th>order_state</th>\n",
       "      <th>region</th>\n",
       "      <th>state</th>\n",
       "    </tr>\n",
       "  </thead>\n",
       "  <tbody>\n",
       "  </tbody>\n",
       "</table>\n",
       "</div>"
      ],
      "text/plain": [
       "Empty DataFrame\n",
       "Columns: [order_state, region, state]\n",
       "Index: []"
      ]
     },
     "execution_count": 96,
     "metadata": {},
     "output_type": "execute_result"
    }
   ],
   "source": [
    "duplicated_rows = state_df.duplicated(keep=False)\n",
    "state_df[duplicated_rows]"
   ]
  },
  {
   "cell_type": "code",
   "execution_count": 97,
   "id": "2ec93a43",
   "metadata": {},
   "outputs": [
    {
     "data": {
      "text/html": [
       "<div>\n",
       "<style scoped>\n",
       "    .dataframe tbody tr th:only-of-type {\n",
       "        vertical-align: middle;\n",
       "    }\n",
       "\n",
       "    .dataframe tbody tr th {\n",
       "        vertical-align: top;\n",
       "    }\n",
       "\n",
       "    .dataframe thead th {\n",
       "        text-align: right;\n",
       "    }\n",
       "</style>\n",
       "<table border=\"1\" class=\"dataframe\">\n",
       "  <thead>\n",
       "    <tr style=\"text-align: right;\">\n",
       "      <th></th>\n",
       "      <th>stock_code</th>\n",
       "      <th>weight</th>\n",
       "      <th>landed_cost</th>\n",
       "      <th>shipping_cost_1000_mile</th>\n",
       "      <th>description</th>\n",
       "      <th>category</th>\n",
       "    </tr>\n",
       "  </thead>\n",
       "  <tbody>\n",
       "    <tr>\n",
       "      <th>0</th>\n",
       "      <td>22423</td>\n",
       "      <td>40.0</td>\n",
       "      <td>35.0</td>\n",
       "      <td>20.0</td>\n",
       "      <td>Taste of the Wild High Prairie Grain-Free Dry ...</td>\n",
       "      <td>Food</td>\n",
       "    </tr>\n",
       "    <tr>\n",
       "      <th>1</th>\n",
       "      <td>85123A</td>\n",
       "      <td>2.0</td>\n",
       "      <td>6.0</td>\n",
       "      <td>5.0</td>\n",
       "      <td>Dog and Puppy Pads</td>\n",
       "      <td>Disposables</td>\n",
       "    </tr>\n",
       "    <tr>\n",
       "      <th>2</th>\n",
       "      <td>47566</td>\n",
       "      <td>6.0</td>\n",
       "      <td>18.0</td>\n",
       "      <td>12.0</td>\n",
       "      <td>Memory Foam Pet Beds for Small, Medium, and La...</td>\n",
       "      <td>Disposables</td>\n",
       "    </tr>\n",
       "    <tr>\n",
       "      <th>3</th>\n",
       "      <td>85099B</td>\n",
       "      <td>2.0</td>\n",
       "      <td>5.0</td>\n",
       "      <td>4.0</td>\n",
       "      <td>Earth Rated Dog Poop Bags</td>\n",
       "      <td>Disposables</td>\n",
       "    </tr>\n",
       "    <tr>\n",
       "      <th>4</th>\n",
       "      <td>23084</td>\n",
       "      <td>2.0</td>\n",
       "      <td>6.0</td>\n",
       "      <td>6.0</td>\n",
       "      <td>Templation Soft Cat Treats</td>\n",
       "      <td>Pet Food</td>\n",
       "    </tr>\n",
       "  </tbody>\n",
       "</table>\n",
       "</div>"
      ],
      "text/plain": [
       "  stock_code  weight  landed_cost  shipping_cost_1000_mile  \\\n",
       "0      22423    40.0         35.0                     20.0   \n",
       "1     85123A     2.0          6.0                      5.0   \n",
       "2      47566     6.0         18.0                     12.0   \n",
       "3     85099B     2.0          5.0                      4.0   \n",
       "4      23084     2.0          6.0                      6.0   \n",
       "\n",
       "                                         description     category  \n",
       "0  Taste of the Wild High Prairie Grain-Free Dry ...         Food  \n",
       "1                                 Dog and Puppy Pads  Disposables  \n",
       "2  Memory Foam Pet Beds for Small, Medium, and La...  Disposables  \n",
       "3                          Earth Rated Dog Poop Bags  Disposables  \n",
       "4                         Templation Soft Cat Treats     Pet Food  "
      ]
     },
     "execution_count": 97,
     "metadata": {},
     "output_type": "execute_result"
    }
   ],
   "source": [
    "raw_data_path = data_raw_dir(\"product.csv\")\n",
    "product_df = pd.read_csv(raw_data_path)\n",
    "product_df.head()"
   ]
  },
  {
   "cell_type": "code",
   "execution_count": 98,
   "id": "1619170f",
   "metadata": {},
   "outputs": [
    {
     "name": "stdout",
     "output_type": "stream",
     "text": [
      "<class 'pandas.core.frame.DataFrame'>\n",
      "RangeIndex: 20 entries, 0 to 19\n",
      "Data columns (total 6 columns):\n",
      " #   Column                   Non-Null Count  Dtype  \n",
      "---  ------                   --------------  -----  \n",
      " 0   stock_code               20 non-null     object \n",
      " 1   weight                   20 non-null     float64\n",
      " 2   landed_cost              20 non-null     float64\n",
      " 3   shipping_cost_1000_mile  20 non-null     float64\n",
      " 4   description              20 non-null     object \n",
      " 5   category                 20 non-null     object \n",
      "dtypes: float64(3), object(3)\n",
      "memory usage: 1.1+ KB\n"
     ]
    }
   ],
   "source": [
    "product_df.info()"
   ]
  },
  {
   "cell_type": "code",
   "execution_count": 99,
   "id": "13353aa4",
   "metadata": {},
   "outputs": [
    {
     "data": {
      "image/png": "[encoded data removed]",
      "text/plain": [
       "<Figure size 654.875x500 with 1 Axes>"
      ]
     },
     "metadata": {},
     "output_type": "display_data"
    }
   ],
   "source": [
    "product_df_columns = list(product_df.columns)\n",
    "plot_completeness_barplot(df=product_df,column=product_df_columns,df_name=\"Product\")"
   ]
  },
  {
   "cell_type": "code",
   "execution_count": 100,
   "id": "42a40840",
   "metadata": {},
   "outputs": [
    {
     "data": {
      "text/html": [
       "<div>\n",
       "<style scoped>\n",
       "    .dataframe tbody tr th:only-of-type {\n",
       "        vertical-align: middle;\n",
       "    }\n",
       "\n",
       "    .dataframe tbody tr th {\n",
       "        vertical-align: top;\n",
       "    }\n",
       "\n",
       "    .dataframe thead th {\n",
       "        text-align: right;\n",
       "    }\n",
       "</style>\n",
       "<table border=\"1\" class=\"dataframe\">\n",
       "  <thead>\n",
       "    <tr style=\"text-align: right;\">\n",
       "      <th></th>\n",
       "      <th>stock_code</th>\n",
       "      <th>weight</th>\n",
       "      <th>landed_cost</th>\n",
       "      <th>shipping_cost_1000_mile</th>\n",
       "      <th>description</th>\n",
       "      <th>category</th>\n",
       "    </tr>\n",
       "  </thead>\n",
       "  <tbody>\n",
       "  </tbody>\n",
       "</table>\n",
       "</div>"
      ],
      "text/plain": [
       "Empty DataFrame\n",
       "Columns: [stock_code, weight, landed_cost, shipping_cost_1000_mile, description, category]\n",
       "Index: []"
      ]
     },
     "execution_count": 100,
     "metadata": {},
     "output_type": "execute_result"
    }
   ],
   "source": [
    "duplicated_rows = product_df.duplicated(keep=False)\n",
    "product_df[duplicated_rows]"
   ]
  },
  {
   "cell_type": "code",
   "execution_count": 101,
   "id": "fdf5c362",
   "metadata": {},
   "outputs": [
    {
     "data": {
      "image/png": "[encoded data removed]",
      "text/plain": [
       "<Figure size 500x500 with 1 Axes>"
      ]
     },
     "metadata": {},
     "output_type": "display_data"
    }
   ],
   "source": [
    "plot_uniqueness_barplot(df=product_df,column=product_df_columns,df_name=\"Product\")"
   ]
  },
  {
   "cell_type": "code",
   "execution_count": 102,
   "id": "aeb6bd41",
   "metadata": {},
   "outputs": [
    {
     "data": {
      "text/plain": [
       "array(['Food', 'Disposables', 'Pet Food', 'Cleanig Supplies',\n",
       "       'Supplements', 'Electronics', 'Grooming'], dtype=object)"
      ]
     },
     "execution_count": 102,
     "metadata": {},
     "output_type": "execute_result"
    }
   ],
   "source": [
    "product_df[\"category\"].unique()"
   ]
  },
  {
   "cell_type": "code",
   "execution_count": 103,
   "id": "3c5b7a65",
   "metadata": {},
   "outputs": [],
   "source": [
    "product_df[\"category\"] = product_df[\"category\"].astype(\"category\")"
   ]
  },
  {
   "cell_type": "code",
   "execution_count": 104,
   "id": "3747913c",
   "metadata": {},
   "outputs": [
    {
     "data": {
      "text/plain": [
       "array(['Taste of the Wild High Prairie Grain-Free Dry Dog Food 40lb',\n",
       "       'Dog and Puppy Pads',\n",
       "       'Memory Foam Pet Beds for Small, Medium, and Large Dogs and Cats',\n",
       "       'Earth Rated Dog Poop Bags', 'Templation Soft Cat Treats',\n",
       "       'Litter Slide Multi-Cat Scented Clumping Clay Cat Litter',\n",
       "       'Pet Odor Eliminator', 'ProBiotic Supplements for Dogs',\n",
       "       'Indoor Pet Camera', 'Sheba Perfect Portions Pat� Wet Cat Food',\n",
       "       'Purina ONE SmartBlend Natural Adult Chicken 10lb',\n",
       "       'Milk-Bone MaroSnacks Dog Treats with Real Bone',\n",
       "       'Pet Hair Remover', 'Canned Cat Food',\n",
       "       'UltraSound Dog Barking Deterrent',\n",
       "       'Purina Pro Plan Adult Sensitive Skin',\n",
       "       'Rechargeable Pet Nail Grinder', 'NexGard Chew for Dogs',\n",
       "       'Pet Grooming Brush',\n",
       "       'ChomChom Pet Hair Remover - Reusable Cat and Dog Hair Remover'],\n",
       "      dtype=object)"
      ]
     },
     "execution_count": 104,
     "metadata": {},
     "output_type": "execute_result"
    }
   ],
   "source": [
    "product_df[\"description\"].unique()"
   ]
  },
  {
   "cell_type": "code",
   "execution_count": 105,
   "id": "38e7e34e",
   "metadata": {},
   "outputs": [],
   "source": [
    "product_df[\"description\"] = product_df[\"description\"].astype(\"category\")"
   ]
  },
  {
   "cell_type": "code",
   "execution_count": 106,
   "id": "499c6eca",
   "metadata": {},
   "outputs": [
    {
     "data": {
      "text/plain": [
       "np.int64(0)"
      ]
     },
     "execution_count": 106,
     "metadata": {},
     "output_type": "execute_result"
    }
   ],
   "source": [
    "inconsistent_rows = product_df[product_df[\"shipping_cost_1000_mile\"] <= 0][\"shipping_cost_1000_mile\"].count()\n",
    "inconsistent_rows"
   ]
  },
  {
   "cell_type": "code",
   "execution_count": 107,
   "id": "cfedb7fd",
   "metadata": {},
   "outputs": [
    {
     "data": {
      "text/plain": [
       "np.int64(0)"
      ]
     },
     "execution_count": 107,
     "metadata": {},
     "output_type": "execute_result"
    }
   ],
   "source": [
    "inconsistent_rows = product_df[product_df[\"landed_cost\"] <= 0][\"landed_cost\"].count()\n",
    "inconsistent_rows"
   ]
  },
  {
   "cell_type": "code",
   "execution_count": 108,
   "id": "b67498ff",
   "metadata": {},
   "outputs": [
    {
     "data": {
      "text/plain": [
       "np.int64(0)"
      ]
     },
     "execution_count": 108,
     "metadata": {},
     "output_type": "execute_result"
    }
   ],
   "source": [
    "inconsistent_rows = product_df[product_df[\"weight\"] <= 0][\"weight\"].count()\n",
    "inconsistent_rows"
   ]
  },
  {
   "cell_type": "code",
   "execution_count": 109,
   "id": "9b55136b",
   "metadata": {},
   "outputs": [
    {
     "data": {
      "text/html": [
       "<div>\n",
       "<style scoped>\n",
       "    .dataframe tbody tr th:only-of-type {\n",
       "        vertical-align: middle;\n",
       "    }\n",
       "\n",
       "    .dataframe tbody tr th {\n",
       "        vertical-align: top;\n",
       "    }\n",
       "\n",
       "    .dataframe thead th {\n",
       "        text-align: right;\n",
       "    }\n",
       "</style>\n",
       "<table border=\"1\" class=\"dataframe\">\n",
       "  <thead>\n",
       "    <tr style=\"text-align: right;\">\n",
       "      <th></th>\n",
       "      <th>stock_code</th>\n",
       "      <th>weight</th>\n",
       "      <th>landed_cost</th>\n",
       "      <th>shipping_cost_1000_mile</th>\n",
       "      <th>description</th>\n",
       "      <th>category</th>\n",
       "    </tr>\n",
       "  </thead>\n",
       "  <tbody>\n",
       "    <tr>\n",
       "      <th>1</th>\n",
       "      <td>85123A</td>\n",
       "      <td>2.0</td>\n",
       "      <td>6.0</td>\n",
       "      <td>5.0</td>\n",
       "      <td>Dog and Puppy Pads</td>\n",
       "      <td>Disposables</td>\n",
       "    </tr>\n",
       "    <tr>\n",
       "      <th>3</th>\n",
       "      <td>85099B</td>\n",
       "      <td>2.0</td>\n",
       "      <td>5.0</td>\n",
       "      <td>4.0</td>\n",
       "      <td>Earth Rated Dog Poop Bags</td>\n",
       "      <td>Disposables</td>\n",
       "    </tr>\n",
       "  </tbody>\n",
       "</table>\n",
       "</div>"
      ],
      "text/plain": [
       "  stock_code  weight  landed_cost  shipping_cost_1000_mile  \\\n",
       "1     85123A     2.0          6.0                      5.0   \n",
       "3     85099B     2.0          5.0                      4.0   \n",
       "\n",
       "                 description     category  \n",
       "1         Dog and Puppy Pads  Disposables  \n",
       "3  Earth Rated Dog Poop Bags  Disposables  "
      ]
     },
     "execution_count": 109,
     "metadata": {},
     "output_type": "execute_result"
    }
   ],
   "source": [
    "incosistent_rows = product_df[\"stock_code\"].str.isdigit() == False\n",
    "product_subset_df = product_df[incosistent_rows]\n",
    "product_subset_df"
   ]
  },
  {
   "cell_type": "code",
   "execution_count": 110,
   "id": "6b96de21",
   "metadata": {},
   "outputs": [
    {
     "data": {
      "text/html": [
       "<div>\n",
       "<style scoped>\n",
       "    .dataframe tbody tr th:only-of-type {\n",
       "        vertical-align: middle;\n",
       "    }\n",
       "\n",
       "    .dataframe tbody tr th {\n",
       "        vertical-align: top;\n",
       "    }\n",
       "\n",
       "    .dataframe thead th {\n",
       "        text-align: right;\n",
       "    }\n",
       "</style>\n",
       "<table border=\"1\" class=\"dataframe\">\n",
       "  <thead>\n",
       "    <tr style=\"text-align: right;\">\n",
       "      <th></th>\n",
       "      <th>stock_code</th>\n",
       "      <th>weight</th>\n",
       "      <th>landed_cost</th>\n",
       "      <th>shipping_cost_1000_mile</th>\n",
       "      <th>description</th>\n",
       "      <th>category</th>\n",
       "    </tr>\n",
       "  </thead>\n",
       "  <tbody>\n",
       "    <tr>\n",
       "      <th>1</th>\n",
       "      <td>85123</td>\n",
       "      <td>2.0</td>\n",
       "      <td>6.0</td>\n",
       "      <td>5.0</td>\n",
       "      <td>Dog and Puppy Pads</td>\n",
       "      <td>Disposables</td>\n",
       "    </tr>\n",
       "    <tr>\n",
       "      <th>3</th>\n",
       "      <td>85099</td>\n",
       "      <td>2.0</td>\n",
       "      <td>5.0</td>\n",
       "      <td>4.0</td>\n",
       "      <td>Earth Rated Dog Poop Bags</td>\n",
       "      <td>Disposables</td>\n",
       "    </tr>\n",
       "  </tbody>\n",
       "</table>\n",
       "</div>"
      ],
      "text/plain": [
       "  stock_code  weight  landed_cost  shipping_cost_1000_mile  \\\n",
       "1      85123     2.0          6.0                      5.0   \n",
       "3      85099     2.0          5.0                      4.0   \n",
       "\n",
       "                 description     category  \n",
       "1         Dog and Puppy Pads  Disposables  \n",
       "3  Earth Rated Dog Poop Bags  Disposables  "
      ]
     },
     "execution_count": 110,
     "metadata": {},
     "output_type": "execute_result"
    }
   ],
   "source": [
    "product_df[\"stock_code\"] = product_df[\"stock_code\"].str.replace(r\"\\D\", \"\", regex=True)\n",
    "product_df[incosistent_rows]"
   ]
  },
  {
   "cell_type": "code",
   "execution_count": 111,
   "id": "0840680a",
   "metadata": {},
   "outputs": [],
   "source": [
    "product_df[\"stock_code\"] = product_df[\"stock_code\"].astype(\"int\")"
   ]
  },
  {
   "cell_type": "code",
   "execution_count": 112,
   "id": "6774b3ba",
   "metadata": {},
   "outputs": [
    {
     "data": {
      "text/html": [
       "<div>\n",
       "<style scoped>\n",
       "    .dataframe tbody tr th:only-of-type {\n",
       "        vertical-align: middle;\n",
       "    }\n",
       "\n",
       "    .dataframe tbody tr th {\n",
       "        vertical-align: top;\n",
       "    }\n",
       "\n",
       "    .dataframe thead th {\n",
       "        text-align: right;\n",
       "    }\n",
       "</style>\n",
       "<table border=\"1\" class=\"dataframe\">\n",
       "  <thead>\n",
       "    <tr style=\"text-align: right;\">\n",
       "      <th></th>\n",
       "      <th>stock_code</th>\n",
       "      <th>weight</th>\n",
       "      <th>landed_cost</th>\n",
       "      <th>shipping_cost_1000_mile</th>\n",
       "      <th>description</th>\n",
       "      <th>category</th>\n",
       "    </tr>\n",
       "  </thead>\n",
       "  <tbody>\n",
       "  </tbody>\n",
       "</table>\n",
       "</div>"
      ],
      "text/plain": [
       "Empty DataFrame\n",
       "Columns: [stock_code, weight, landed_cost, shipping_cost_1000_mile, description, category]\n",
       "Index: []"
      ]
     },
     "execution_count": 112,
     "metadata": {},
     "output_type": "execute_result"
    }
   ],
   "source": [
    "duplicated_rows = product_df.duplicated(keep=False)\n",
    "product_df[duplicated_rows]"
   ]
  },
  {
   "cell_type": "code",
   "execution_count": 113,
   "id": "47839bd9",
   "metadata": {},
   "outputs": [
    {
     "name": "stdout",
     "output_type": "stream",
     "text": [
      "<class 'pandas.core.frame.DataFrame'>\n",
      "RangeIndex: 20 entries, 0 to 19\n",
      "Data columns (total 6 columns):\n",
      " #   Column                   Non-Null Count  Dtype   \n",
      "---  ------                   --------------  -----   \n",
      " 0   stock_code               20 non-null     int64   \n",
      " 1   weight                   20 non-null     float64 \n",
      " 2   landed_cost              20 non-null     float64 \n",
      " 3   shipping_cost_1000_mile  20 non-null     float64 \n",
      " 4   description              20 non-null     category\n",
      " 5   category                 20 non-null     category\n",
      "dtypes: category(2), float64(3), int64(1)\n",
      "memory usage: 1.8 KB\n"
     ]
    }
   ],
   "source": [
    "product_df.info()"
   ]
  },
  {
   "cell_type": "code",
   "execution_count": 114,
   "id": "62647a8e",
   "metadata": {},
   "outputs": [
    {
     "data": {
      "text/html": [
       "<div>\n",
       "<style scoped>\n",
       "    .dataframe tbody tr th:only-of-type {\n",
       "        vertical-align: middle;\n",
       "    }\n",
       "\n",
       "    .dataframe tbody tr th {\n",
       "        vertical-align: top;\n",
       "    }\n",
       "\n",
       "    .dataframe thead th {\n",
       "        text-align: right;\n",
       "    }\n",
       "</style>\n",
       "<table border=\"1\" class=\"dataframe\">\n",
       "  <thead>\n",
       "    <tr style=\"text-align: right;\">\n",
       "      <th></th>\n",
       "      <th>transaction_date</th>\n",
       "      <th>customer_id</th>\n",
       "      <th>description</th>\n",
       "      <th>stock_code</th>\n",
       "      <th>invoice_no</th>\n",
       "      <th>quantity</th>\n",
       "      <th>sales</th>\n",
       "      <th>unit_price</th>\n",
       "    </tr>\n",
       "  </thead>\n",
       "  <tbody>\n",
       "    <tr>\n",
       "      <th>0</th>\n",
       "      <td>12/1/2020 8:26</td>\n",
       "      <td>17850.0</td>\n",
       "      <td>Dog and Puppy Pads</td>\n",
       "      <td>85123A</td>\n",
       "      <td>536365.0</td>\n",
       "      <td>1</td>\n",
       "      <td>15.30</td>\n",
       "      <td>15.30</td>\n",
       "    </tr>\n",
       "    <tr>\n",
       "      <th>1</th>\n",
       "      <td>12/1/2020 8:34</td>\n",
       "      <td>13047.0</td>\n",
       "      <td>Pet Odor Eliminator</td>\n",
       "      <td>84879</td>\n",
       "      <td>536367.0</td>\n",
       "      <td>6</td>\n",
       "      <td>60.84</td>\n",
       "      <td>10.14</td>\n",
       "    </tr>\n",
       "    <tr>\n",
       "      <th>2</th>\n",
       "      <td>12/1/2020 8:34</td>\n",
       "      <td>13047.0</td>\n",
       "      <td>Rechargeable Pet Nail Grinder</td>\n",
       "      <td>22960</td>\n",
       "      <td>536368.0</td>\n",
       "      <td>1</td>\n",
       "      <td>25.50</td>\n",
       "      <td>25.50</td>\n",
       "    </tr>\n",
       "    <tr>\n",
       "      <th>3</th>\n",
       "      <td>12/1/2020 9:00</td>\n",
       "      <td>13748.0</td>\n",
       "      <td>Litter Slide Multi-Cat Scented Clumping Clay C...</td>\n",
       "      <td>22086</td>\n",
       "      <td>536371.0</td>\n",
       "      <td>14</td>\n",
       "      <td>214.20</td>\n",
       "      <td>15.30</td>\n",
       "    </tr>\n",
       "    <tr>\n",
       "      <th>4</th>\n",
       "      <td>12/1/2020 9:02</td>\n",
       "      <td>17850.0</td>\n",
       "      <td>Dog and Puppy Pads</td>\n",
       "      <td>85123A</td>\n",
       "      <td>536373.0</td>\n",
       "      <td>1</td>\n",
       "      <td>15.30</td>\n",
       "      <td>15.30</td>\n",
       "    </tr>\n",
       "  </tbody>\n",
       "</table>\n",
       "</div>"
      ],
      "text/plain": [
       "  transaction_date  customer_id  \\\n",
       "0   12/1/2020 8:26      17850.0   \n",
       "1   12/1/2020 8:34      13047.0   \n",
       "2   12/1/2020 8:34      13047.0   \n",
       "3   12/1/2020 9:00      13748.0   \n",
       "4   12/1/2020 9:02      17850.0   \n",
       "\n",
       "                                         description stock_code  invoice_no  \\\n",
       "0                                 Dog and Puppy Pads     85123A    536365.0   \n",
       "1                                Pet Odor Eliminator      84879    536367.0   \n",
       "2                      Rechargeable Pet Nail Grinder      22960    536368.0   \n",
       "3  Litter Slide Multi-Cat Scented Clumping Clay C...      22086    536371.0   \n",
       "4                                 Dog and Puppy Pads     85123A    536373.0   \n",
       "\n",
       "   quantity   sales  unit_price  \n",
       "0         1   15.30       15.30  \n",
       "1         6   60.84       10.14  \n",
       "2         1   25.50       25.50  \n",
       "3        14  214.20       15.30  \n",
       "4         1   15.30       15.30  "
      ]
     },
     "execution_count": 114,
     "metadata": {},
     "output_type": "execute_result"
    }
   ],
   "source": [
    "raw_data_path = data_raw_dir(\"sale.csv\")\n",
    "sale_df = pd.read_csv(raw_data_path)\n",
    "sale_df.head()"
   ]
  },
  {
   "cell_type": "code",
   "execution_count": 115,
   "id": "544a3562",
   "metadata": {},
   "outputs": [
    {
     "name": "stdout",
     "output_type": "stream",
     "text": [
      "<class 'pandas.core.frame.DataFrame'>\n",
      "RangeIndex: 25065 entries, 0 to 25064\n",
      "Data columns (total 8 columns):\n",
      " #   Column            Non-Null Count  Dtype  \n",
      "---  ------            --------------  -----  \n",
      " 0   transaction_date  25065 non-null  object \n",
      " 1   customer_id       20649 non-null  float64\n",
      " 2   description       25065 non-null  object \n",
      " 3   stock_code        25065 non-null  object \n",
      " 4   invoice_no        24404 non-null  float64\n",
      " 5   quantity          25065 non-null  int64  \n",
      " 6   sales             25065 non-null  float64\n",
      " 7   unit_price        25065 non-null  float64\n",
      "dtypes: float64(4), int64(1), object(3)\n",
      "memory usage: 1.5+ MB\n"
     ]
    }
   ],
   "source": [
    "sale_df.info()"
   ]
  },
  {
   "cell_type": "code",
   "execution_count": 116,
   "id": "f3551a44",
   "metadata": {},
   "outputs": [
    {
     "data": {
      "image/png": "[encoded data removed]",
      "text/plain": [
       "<Figure size 654.875x500 with 1 Axes>"
      ]
     },
     "metadata": {},
     "output_type": "display_data"
    }
   ],
   "source": [
    "sale_df_columns = list(sale_df.columns)\n",
    "plot_completeness_barplot(df=sale_df,column=sale_df_columns,df_name=\"Sale\")"
   ]
  },
  {
   "cell_type": "code",
   "execution_count": 117,
   "id": "4b4f5d14",
   "metadata": {},
   "outputs": [
    {
     "data": {
      "text/html": [
       "<div>\n",
       "<style scoped>\n",
       "    .dataframe tbody tr th:only-of-type {\n",
       "        vertical-align: middle;\n",
       "    }\n",
       "\n",
       "    .dataframe tbody tr th {\n",
       "        vertical-align: top;\n",
       "    }\n",
       "\n",
       "    .dataframe thead th {\n",
       "        text-align: right;\n",
       "    }\n",
       "</style>\n",
       "<table border=\"1\" class=\"dataframe\">\n",
       "  <thead>\n",
       "    <tr style=\"text-align: right;\">\n",
       "      <th></th>\n",
       "      <th>transaction_date</th>\n",
       "      <th>customer_id</th>\n",
       "      <th>description</th>\n",
       "      <th>stock_code</th>\n",
       "      <th>invoice_no</th>\n",
       "      <th>quantity</th>\n",
       "      <th>sales</th>\n",
       "      <th>unit_price</th>\n",
       "    </tr>\n",
       "  </thead>\n",
       "  <tbody>\n",
       "  </tbody>\n",
       "</table>\n",
       "</div>"
      ],
      "text/plain": [
       "Empty DataFrame\n",
       "Columns: [transaction_date, customer_id, description, stock_code, invoice_no, quantity, sales, unit_price]\n",
       "Index: []"
      ]
     },
     "execution_count": 117,
     "metadata": {},
     "output_type": "execute_result"
    }
   ],
   "source": [
    "duplicated_rows = sale_df.duplicated(keep=False)\n",
    "sale_df[duplicated_rows]"
   ]
  },
  {
   "cell_type": "code",
   "execution_count": 118,
   "id": "5f123b12",
   "metadata": {},
   "outputs": [
    {
     "data": {
      "image/png": "[encoded data removed]",
      "text/plain": [
       "<Figure size 500x500 with 1 Axes>"
      ]
     },
     "metadata": {},
     "output_type": "display_data"
    }
   ],
   "source": [
    "plot_uniqueness_barplot(df=sale_df,column=sale_df_columns,df_name=\"Sale\")"
   ]
  },
  {
   "cell_type": "code",
   "execution_count": 119,
   "id": "088147f8",
   "metadata": {},
   "outputs": [
    {
     "data": {
      "text/plain": [
       "np.int64(63)"
      ]
     },
     "execution_count": 119,
     "metadata": {},
     "output_type": "execute_result"
    }
   ],
   "source": [
    "inconsistent_rows = sale_df[sale_df[\"unit_price\"] <= 0][\"unit_price\"].count()\n",
    "inconsistent_rows"
   ]
  },
  {
   "cell_type": "code",
   "execution_count": 120,
   "id": "b6c27154",
   "metadata": {},
   "outputs": [
    {
     "data": {
      "text/plain": [
       "np.int64(724)"
      ]
     },
     "execution_count": 120,
     "metadata": {},
     "output_type": "execute_result"
    }
   ],
   "source": [
    "inconsistent_rows = sale_df[sale_df[\"sales\"] <= 0][\"sales\"].count()\n",
    "inconsistent_rows"
   ]
  },
  {
   "cell_type": "code",
   "execution_count": 121,
   "id": "fed0e725",
   "metadata": {},
   "outputs": [
    {
     "data": {
      "text/plain": [
       "np.int64(677)"
      ]
     },
     "execution_count": 121,
     "metadata": {},
     "output_type": "execute_result"
    }
   ],
   "source": [
    "inconsistent_rows = sale_df[sale_df[\"quantity\"] <= 0][\"quantity\"].count()\n",
    "inconsistent_rows"
   ]
  },
  {
   "cell_type": "code",
   "execution_count": 122,
   "id": "1225b2fe",
   "metadata": {},
   "outputs": [],
   "source": [
    "sale_df[\"invoice_no\"] = sale_df[\"invoice_no\"].fillna(-1).astype(\"int\")"
   ]
  },
  {
   "cell_type": "code",
   "execution_count": 123,
   "id": "a7ce8409",
   "metadata": {},
   "outputs": [
    {
     "data": {
      "text/html": [
       "<div>\n",
       "<style scoped>\n",
       "    .dataframe tbody tr th:only-of-type {\n",
       "        vertical-align: middle;\n",
       "    }\n",
       "\n",
       "    .dataframe tbody tr th {\n",
       "        vertical-align: top;\n",
       "    }\n",
       "\n",
       "    .dataframe thead th {\n",
       "        text-align: right;\n",
       "    }\n",
       "</style>\n",
       "<table border=\"1\" class=\"dataframe\">\n",
       "  <thead>\n",
       "    <tr style=\"text-align: right;\">\n",
       "      <th></th>\n",
       "      <th>transaction_date</th>\n",
       "      <th>customer_id</th>\n",
       "      <th>description</th>\n",
       "      <th>stock_code</th>\n",
       "      <th>invoice_no</th>\n",
       "      <th>quantity</th>\n",
       "      <th>sales</th>\n",
       "      <th>unit_price</th>\n",
       "    </tr>\n",
       "  </thead>\n",
       "  <tbody>\n",
       "    <tr>\n",
       "      <th>0</th>\n",
       "      <td>12/1/2020 8:26</td>\n",
       "      <td>17850.0</td>\n",
       "      <td>Dog and Puppy Pads</td>\n",
       "      <td>85123A</td>\n",
       "      <td>536365</td>\n",
       "      <td>1</td>\n",
       "      <td>15.3</td>\n",
       "      <td>15.3</td>\n",
       "    </tr>\n",
       "    <tr>\n",
       "      <th>4</th>\n",
       "      <td>12/1/2020 9:02</td>\n",
       "      <td>17850.0</td>\n",
       "      <td>Dog and Puppy Pads</td>\n",
       "      <td>85123A</td>\n",
       "      <td>536373</td>\n",
       "      <td>1</td>\n",
       "      <td>15.3</td>\n",
       "      <td>15.3</td>\n",
       "    </tr>\n",
       "    <tr>\n",
       "      <th>6</th>\n",
       "      <td>12/1/2020 9:32</td>\n",
       "      <td>17850.0</td>\n",
       "      <td>Dog and Puppy Pads</td>\n",
       "      <td>85123A</td>\n",
       "      <td>536375</td>\n",
       "      <td>1</td>\n",
       "      <td>15.3</td>\n",
       "      <td>15.3</td>\n",
       "    </tr>\n",
       "    <tr>\n",
       "      <th>12</th>\n",
       "      <td>12/1/2020 9:57</td>\n",
       "      <td>16029.0</td>\n",
       "      <td>Earth Rated Dog Poop Bags</td>\n",
       "      <td>85099B</td>\n",
       "      <td>536386</td>\n",
       "      <td>17</td>\n",
       "      <td>168.3</td>\n",
       "      <td>9.9</td>\n",
       "    </tr>\n",
       "    <tr>\n",
       "      <th>14</th>\n",
       "      <td>12/1/2020 10:19</td>\n",
       "      <td>17511.0</td>\n",
       "      <td>Dog and Puppy Pads</td>\n",
       "      <td>85123A</td>\n",
       "      <td>536390</td>\n",
       "      <td>11</td>\n",
       "      <td>168.3</td>\n",
       "      <td>15.3</td>\n",
       "    </tr>\n",
       "  </tbody>\n",
       "</table>\n",
       "</div>"
      ],
      "text/plain": [
       "   transaction_date  customer_id                description stock_code  \\\n",
       "0    12/1/2020 8:26      17850.0         Dog and Puppy Pads     85123A   \n",
       "4    12/1/2020 9:02      17850.0         Dog and Puppy Pads     85123A   \n",
       "6    12/1/2020 9:32      17850.0         Dog and Puppy Pads     85123A   \n",
       "12   12/1/2020 9:57      16029.0  Earth Rated Dog Poop Bags     85099B   \n",
       "14  12/1/2020 10:19      17511.0         Dog and Puppy Pads     85123A   \n",
       "\n",
       "    invoice_no  quantity  sales  unit_price  \n",
       "0       536365         1   15.3        15.3  \n",
       "4       536373         1   15.3        15.3  \n",
       "6       536375         1   15.3        15.3  \n",
       "12      536386        17  168.3         9.9  \n",
       "14      536390        11  168.3        15.3  "
      ]
     },
     "execution_count": 123,
     "metadata": {},
     "output_type": "execute_result"
    }
   ],
   "source": [
    "incosistent_rows = sale_df[\"stock_code\"].str.isdigit() == False\n",
    "sale_subset_df = sale_df[incosistent_rows]\n",
    "sale_subset_df.head()"
   ]
  },
  {
   "cell_type": "code",
   "execution_count": 124,
   "id": "b71ffe76",
   "metadata": {},
   "outputs": [
    {
     "data": {
      "text/html": [
       "<div>\n",
       "<style scoped>\n",
       "    .dataframe tbody tr th:only-of-type {\n",
       "        vertical-align: middle;\n",
       "    }\n",
       "\n",
       "    .dataframe tbody tr th {\n",
       "        vertical-align: top;\n",
       "    }\n",
       "\n",
       "    .dataframe thead th {\n",
       "        text-align: right;\n",
       "    }\n",
       "</style>\n",
       "<table border=\"1\" class=\"dataframe\">\n",
       "  <thead>\n",
       "    <tr style=\"text-align: right;\">\n",
       "      <th></th>\n",
       "      <th>transaction_date</th>\n",
       "      <th>customer_id</th>\n",
       "      <th>description</th>\n",
       "      <th>stock_code</th>\n",
       "      <th>invoice_no</th>\n",
       "      <th>quantity</th>\n",
       "      <th>sales</th>\n",
       "      <th>unit_price</th>\n",
       "    </tr>\n",
       "  </thead>\n",
       "  <tbody>\n",
       "    <tr>\n",
       "      <th>0</th>\n",
       "      <td>12/1/2020 8:26</td>\n",
       "      <td>17850.0</td>\n",
       "      <td>Dog and Puppy Pads</td>\n",
       "      <td>85123</td>\n",
       "      <td>536365</td>\n",
       "      <td>1</td>\n",
       "      <td>15.3</td>\n",
       "      <td>15.3</td>\n",
       "    </tr>\n",
       "    <tr>\n",
       "      <th>4</th>\n",
       "      <td>12/1/2020 9:02</td>\n",
       "      <td>17850.0</td>\n",
       "      <td>Dog and Puppy Pads</td>\n",
       "      <td>85123</td>\n",
       "      <td>536373</td>\n",
       "      <td>1</td>\n",
       "      <td>15.3</td>\n",
       "      <td>15.3</td>\n",
       "    </tr>\n",
       "    <tr>\n",
       "      <th>6</th>\n",
       "      <td>12/1/2020 9:32</td>\n",
       "      <td>17850.0</td>\n",
       "      <td>Dog and Puppy Pads</td>\n",
       "      <td>85123</td>\n",
       "      <td>536375</td>\n",
       "      <td>1</td>\n",
       "      <td>15.3</td>\n",
       "      <td>15.3</td>\n",
       "    </tr>\n",
       "    <tr>\n",
       "      <th>12</th>\n",
       "      <td>12/1/2020 9:57</td>\n",
       "      <td>16029.0</td>\n",
       "      <td>Earth Rated Dog Poop Bags</td>\n",
       "      <td>85099</td>\n",
       "      <td>536386</td>\n",
       "      <td>17</td>\n",
       "      <td>168.3</td>\n",
       "      <td>9.9</td>\n",
       "    </tr>\n",
       "    <tr>\n",
       "      <th>14</th>\n",
       "      <td>12/1/2020 10:19</td>\n",
       "      <td>17511.0</td>\n",
       "      <td>Dog and Puppy Pads</td>\n",
       "      <td>85123</td>\n",
       "      <td>536390</td>\n",
       "      <td>11</td>\n",
       "      <td>168.3</td>\n",
       "      <td>15.3</td>\n",
       "    </tr>\n",
       "  </tbody>\n",
       "</table>\n",
       "</div>"
      ],
      "text/plain": [
       "   transaction_date  customer_id                description stock_code  \\\n",
       "0    12/1/2020 8:26      17850.0         Dog and Puppy Pads      85123   \n",
       "4    12/1/2020 9:02      17850.0         Dog and Puppy Pads      85123   \n",
       "6    12/1/2020 9:32      17850.0         Dog and Puppy Pads      85123   \n",
       "12   12/1/2020 9:57      16029.0  Earth Rated Dog Poop Bags      85099   \n",
       "14  12/1/2020 10:19      17511.0         Dog and Puppy Pads      85123   \n",
       "\n",
       "    invoice_no  quantity  sales  unit_price  \n",
       "0       536365         1   15.3        15.3  \n",
       "4       536373         1   15.3        15.3  \n",
       "6       536375         1   15.3        15.3  \n",
       "12      536386        17  168.3         9.9  \n",
       "14      536390        11  168.3        15.3  "
      ]
     },
     "execution_count": 124,
     "metadata": {},
     "output_type": "execute_result"
    }
   ],
   "source": [
    "sale_df[\"stock_code\"] = sale_df[\"stock_code\"].str.replace(r\"\\D\", \"\", regex=True)\n",
    "sale_df[incosistent_rows].head()"
   ]
  },
  {
   "cell_type": "code",
   "execution_count": 125,
   "id": "9539a56e",
   "metadata": {},
   "outputs": [],
   "source": [
    "sale_df[\"stock_code\"] = sale_df[\"stock_code\"].astype(\"int\")"
   ]
  },
  {
   "cell_type": "code",
   "execution_count": 126,
   "id": "6ea9ffa6",
   "metadata": {},
   "outputs": [
    {
     "data": {
      "text/plain": [
       "array(['Dog and Puppy Pads', 'Pet Odor Eliminator',\n",
       "       'Rechargeable Pet Nail Grinder',\n",
       "       'Litter Slide Multi-Cat Scented Clumping Clay Cat Litter',\n",
       "       'ChomChom Pet Hair Remover - Reusable Cat and Dog Hair Remover',\n",
       "       'Milk-Bone MaroSnacks Dog Treats with Real Bone',\n",
       "       'Pet Grooming Brush', 'NexGard Chew for Dogs',\n",
       "       'Earth Rated Dog Poop Bags', 'ProBiotic Supplements for Dogs',\n",
       "       'Sheba Perfect Portions Pat Wet Cat Food',\n",
       "       'Indoor Pet Camera (Wi-Fi)', 'Canned Cat Food',\n",
       "       'Taste of the Wild High Prairie Grain-Free Dry Dog Food 40lb',\n",
       "       'Memory Foam Pet Beds for Small, Medium, and Large Dogs and Cats',\n",
       "       'UltraSound Dog Barking Deterrent', 'Indoor Pet Camera',\n",
       "       'Pet Hair Remover', 'Purina Pro Plan Adult Sensitive Skin',\n",
       "       'Purina ONE SmartBlend Natural Adult Chicken 10lb',\n",
       "       'Templation Soft Cat Treats'], dtype=object)"
      ]
     },
     "execution_count": 126,
     "metadata": {},
     "output_type": "execute_result"
    }
   ],
   "source": [
    "sale_df[\"description\"].unique()"
   ]
  },
  {
   "cell_type": "code",
   "execution_count": 127,
   "id": "4267c346",
   "metadata": {},
   "outputs": [],
   "source": [
    "sale_df[\"description\"] = sale_df[\"description\"].astype(\"category\")"
   ]
  },
  {
   "cell_type": "code",
   "execution_count": 128,
   "id": "9d521dc9",
   "metadata": {},
   "outputs": [],
   "source": [
    "sale_df[\"customer_id\"] = sale_df[\"customer_id\"].fillna(-1).astype(\"int\")"
   ]
  },
  {
   "cell_type": "code",
   "execution_count": 129,
   "id": "a8267c7d",
   "metadata": {},
   "outputs": [],
   "source": [
    "sale_df[\"transaction_date\"] = pd.to_datetime(sale_df[\"transaction_date\"])"
   ]
  },
  {
   "cell_type": "code",
   "execution_count": 130,
   "id": "c20b44bf",
   "metadata": {},
   "outputs": [
    {
     "data": {
      "text/html": [
       "<div>\n",
       "<style scoped>\n",
       "    .dataframe tbody tr th:only-of-type {\n",
       "        vertical-align: middle;\n",
       "    }\n",
       "\n",
       "    .dataframe tbody tr th {\n",
       "        vertical-align: top;\n",
       "    }\n",
       "\n",
       "    .dataframe thead th {\n",
       "        text-align: right;\n",
       "    }\n",
       "</style>\n",
       "<table border=\"1\" class=\"dataframe\">\n",
       "  <thead>\n",
       "    <tr style=\"text-align: right;\">\n",
       "      <th></th>\n",
       "      <th>transaction_date</th>\n",
       "      <th>customer_id</th>\n",
       "      <th>description</th>\n",
       "      <th>stock_code</th>\n",
       "      <th>invoice_no</th>\n",
       "      <th>quantity</th>\n",
       "      <th>sales</th>\n",
       "      <th>unit_price</th>\n",
       "    </tr>\n",
       "  </thead>\n",
       "  <tbody>\n",
       "    <tr>\n",
       "      <th>0</th>\n",
       "      <td>2020-12-01 08:26:00</td>\n",
       "      <td>17850</td>\n",
       "      <td>Dog and Puppy Pads</td>\n",
       "      <td>85123</td>\n",
       "      <td>536365</td>\n",
       "      <td>1</td>\n",
       "      <td>15.30</td>\n",
       "      <td>15.30</td>\n",
       "    </tr>\n",
       "    <tr>\n",
       "      <th>1</th>\n",
       "      <td>2020-12-01 08:34:00</td>\n",
       "      <td>13047</td>\n",
       "      <td>Pet Odor Eliminator</td>\n",
       "      <td>84879</td>\n",
       "      <td>536367</td>\n",
       "      <td>6</td>\n",
       "      <td>60.84</td>\n",
       "      <td>10.14</td>\n",
       "    </tr>\n",
       "    <tr>\n",
       "      <th>2</th>\n",
       "      <td>2020-12-01 08:34:00</td>\n",
       "      <td>13047</td>\n",
       "      <td>Rechargeable Pet Nail Grinder</td>\n",
       "      <td>22960</td>\n",
       "      <td>536368</td>\n",
       "      <td>1</td>\n",
       "      <td>25.50</td>\n",
       "      <td>25.50</td>\n",
       "    </tr>\n",
       "    <tr>\n",
       "      <th>3</th>\n",
       "      <td>2020-12-01 09:00:00</td>\n",
       "      <td>13748</td>\n",
       "      <td>Litter Slide Multi-Cat Scented Clumping Clay C...</td>\n",
       "      <td>22086</td>\n",
       "      <td>536371</td>\n",
       "      <td>14</td>\n",
       "      <td>214.20</td>\n",
       "      <td>15.30</td>\n",
       "    </tr>\n",
       "    <tr>\n",
       "      <th>4</th>\n",
       "      <td>2020-12-01 09:02:00</td>\n",
       "      <td>17850</td>\n",
       "      <td>Dog and Puppy Pads</td>\n",
       "      <td>85123</td>\n",
       "      <td>536373</td>\n",
       "      <td>1</td>\n",
       "      <td>15.30</td>\n",
       "      <td>15.30</td>\n",
       "    </tr>\n",
       "  </tbody>\n",
       "</table>\n",
       "</div>"
      ],
      "text/plain": [
       "     transaction_date  customer_id  \\\n",
       "0 2020-12-01 08:26:00        17850   \n",
       "1 2020-12-01 08:34:00        13047   \n",
       "2 2020-12-01 08:34:00        13047   \n",
       "3 2020-12-01 09:00:00        13748   \n",
       "4 2020-12-01 09:02:00        17850   \n",
       "\n",
       "                                         description  stock_code  invoice_no  \\\n",
       "0                                 Dog and Puppy Pads       85123      536365   \n",
       "1                                Pet Odor Eliminator       84879      536367   \n",
       "2                      Rechargeable Pet Nail Grinder       22960      536368   \n",
       "3  Litter Slide Multi-Cat Scented Clumping Clay C...       22086      536371   \n",
       "4                                 Dog and Puppy Pads       85123      536373   \n",
       "\n",
       "   quantity   sales  unit_price  \n",
       "0         1   15.30       15.30  \n",
       "1         6   60.84       10.14  \n",
       "2         1   25.50       25.50  \n",
       "3        14  214.20       15.30  \n",
       "4         1   15.30       15.30  "
      ]
     },
     "execution_count": 130,
     "metadata": {},
     "output_type": "execute_result"
    }
   ],
   "source": [
    "sale_df.head()"
   ]
  },
  {
   "cell_type": "code",
   "execution_count": 131,
   "id": "826c16f4",
   "metadata": {},
   "outputs": [
    {
     "name": "stdout",
     "output_type": "stream",
     "text": [
      "<class 'pandas.core.frame.DataFrame'>\n",
      "RangeIndex: 25065 entries, 0 to 25064\n",
      "Data columns (total 8 columns):\n",
      " #   Column            Non-Null Count  Dtype         \n",
      "---  ------            --------------  -----         \n",
      " 0   transaction_date  25065 non-null  datetime64[ns]\n",
      " 1   customer_id       25065 non-null  int64         \n",
      " 2   description       25065 non-null  category      \n",
      " 3   stock_code        25065 non-null  int64         \n",
      " 4   invoice_no        25065 non-null  int64         \n",
      " 5   quantity          25065 non-null  int64         \n",
      " 6   sales             25065 non-null  float64       \n",
      " 7   unit_price        25065 non-null  float64       \n",
      "dtypes: category(1), datetime64[ns](1), float64(2), int64(4)\n",
      "memory usage: 1.4 MB\n"
     ]
    }
   ],
   "source": [
    "sale_df.info()"
   ]
  },
  {
   "cell_type": "code",
   "execution_count": 132,
   "id": "f82bc525",
   "metadata": {},
   "outputs": [
    {
     "data": {
      "text/html": [
       "<div>\n",
       "<style scoped>\n",
       "    .dataframe tbody tr th:only-of-type {\n",
       "        vertical-align: middle;\n",
       "    }\n",
       "\n",
       "    .dataframe tbody tr th {\n",
       "        vertical-align: top;\n",
       "    }\n",
       "\n",
       "    .dataframe thead th {\n",
       "        text-align: right;\n",
       "    }\n",
       "</style>\n",
       "<table border=\"1\" class=\"dataframe\">\n",
       "  <thead>\n",
       "    <tr style=\"text-align: right;\">\n",
       "      <th></th>\n",
       "      <th>transaction_date</th>\n",
       "      <th>customer_id</th>\n",
       "      <th>description</th>\n",
       "      <th>stock_code</th>\n",
       "      <th>invoice_no</th>\n",
       "      <th>quantity</th>\n",
       "      <th>sales</th>\n",
       "      <th>unit_price</th>\n",
       "    </tr>\n",
       "  </thead>\n",
       "  <tbody>\n",
       "  </tbody>\n",
       "</table>\n",
       "</div>"
      ],
      "text/plain": [
       "Empty DataFrame\n",
       "Columns: [transaction_date, customer_id, description, stock_code, invoice_no, quantity, sales, unit_price]\n",
       "Index: []"
      ]
     },
     "execution_count": 132,
     "metadata": {},
     "output_type": "execute_result"
    }
   ],
   "source": [
    "duplicated_rows = sale_df.duplicated(keep=False)\n",
    "sale_df[duplicated_rows]"
   ]
  }
 ],
 "metadata": {
  "kernelspec": {
   "display_name": "customer_segmentation",
   "language": "python",
   "name": "python3"
  },
  "language_info": {
   "codemirror_mode": {
    "name": "ipython",
    "version": 3
   },
   "file_extension": ".py",
   "mimetype": "text/x-python",
   "name": "python",
   "nbconvert_exporter": "python",
   "pygments_lexer": "ipython3",
   "version": "3.10.15"
  }
 },
 "nbformat": 4,
 "nbformat_minor": 5
}
