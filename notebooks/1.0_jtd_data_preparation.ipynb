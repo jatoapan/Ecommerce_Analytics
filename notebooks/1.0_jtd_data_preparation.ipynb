{
 "cells": [
  {
   "cell_type": "code",
   "execution_count": 1,
   "id": "864df567",
   "metadata": {},
   "outputs": [],
   "source": [
    "%reload_ext autoreload\n",
    "%autoreload 2"
   ]
  },
  {
   "cell_type": "markdown",
   "id": "c9a8361c",
   "metadata": {},
   "source": [
    "# **Data Preparation**"
   ]
  },
  {
   "cell_type": "code",
   "execution_count": 2,
   "id": "f03c6920",
   "metadata": {},
   "outputs": [],
   "source": [
    "from Ecommerce_Analytics.utils.paths import data_raw_dir, data_interim_dir\n",
    "import Ecommerce_Analytics.plot as plots\n",
    "import pandas as pd"
   ]
  },
  {
   "cell_type": "markdown",
   "id": "bc67eab7",
   "metadata": {},
   "source": [
    "## **Data Cleaning**"
   ]
  },
  {
   "cell_type": "markdown",
   "id": "9a85d859",
   "metadata": {},
   "source": [
    "El conjunto de datos fue obtenido de la sección Real World Projects de DataCamp, donde se presenta como caso de estudio bajo el nombre Case Study: Ecommerce Analysis in Power BI.\n",
    "\n",
    "[Enlace al curso en DataCamp](https://app.datacamp.com/learn/courses/case-study-ecommerce-analysis-in-power-bi)\n",
    "\n",
    "En la sección de recursos del caso se encuentran disponibles los archivos con ejercicios, datasets y metadatos:\n",
    "\n",
    "### **Exercises and Datasets**\n",
    "\n",
    "[Enlace al PDF de Exercises and Datasets](https://assets.datacamp.com/production/repositories/6373/datasets/dd3112786b7aabfcdb7c4bdd451953d4736482e8/Case%20Study_%20Ecommerce%20Analysis%20in%20Power%20BI%20-%20Exercises%20and%20Datasets.pdf)\n",
    "\n",
    "### **Metadata Sheet**\n",
    "\n",
    "[Enlace al PDF de Metadata](https://assets.datacamp.com/production/repositories/6373/datasets/1cf007399125c429010598132d5c81a2ac66aa07/Metadata%20-%20Case%20study_%20Ecommerce%20Analysis%20in%20Power%20BI.pdf)\n",
    "\n",
    "El conjunto está compuesto por 4 archivos CSV: ``customer.csv``, ``product.csv`` y ``state.csv`` corresponden a las dimensiones, y ``sale.csv`` representa la tabla de hechos. Las tablas contienen las siguientes columnas:\n",
    "\n",
    "#### **Customer**\n",
    "\n",
    "- **customer_id**: Customer unique identifier\n",
    "- **order_city**: City\n",
    "- **order_postal**: Postal code\n",
    "- **order_state**: State\n",
    "- **latitude**:  Latitude of customer location\n",
    "- **longitude**: Longitude of customer location\n",
    "\n",
    "#### **Product**\n",
    "\n",
    "- **stock_code**: Product code\n",
    "- **weight**: Weight of a single unit\n",
    "- **landed_cost**: Manufacturer cost + freight\n",
    "- **shipping_cost_1000_mile**: Average cost of shipping 1000 miles to customers\n",
    "- **description**: Most recent product description\n",
    "- **category**: Product category\n",
    "\n",
    "#### **State**\n",
    "\n",
    "- **order_state**: State code, description and all its variations\n",
    "- **state_abbreviation**: The full name of the state\n",
    "- **region**: Region name\n",
    "- **state**: A standardized state code\n",
    "\n",
    "#### **Sale**\n",
    "\n",
    "- **transaction_date**: Date of purchase\n",
    "- **customer_id**: Customer identifier\n",
    "- **description**: Product description\n",
    "- **stock_code**: Product code\n",
    "- **invoice_no**: An invoice contains multiple products and represents a single checkout\n",
    "- **quantity**: Quantity of a product purchased\n",
    "- **sale**: Total amount of a product in a single checkout\n",
    "- **unit_price**: Unit price of a product"
   ]
  },
  {
   "cell_type": "markdown",
   "id": "2a362999",
   "metadata": {},
   "source": [
    "#### **Customer Table Preparation**"
   ]
  },
  {
   "cell_type": "code",
   "execution_count": 3,
   "id": "b0bde19c",
   "metadata": {},
   "outputs": [
    {
     "data": {
      "text/html": [
       "<div>\n",
       "<style scoped>\n",
       "    .dataframe tbody tr th:only-of-type {\n",
       "        vertical-align: middle;\n",
       "    }\n",
       "\n",
       "    .dataframe tbody tr th {\n",
       "        vertical-align: top;\n",
       "    }\n",
       "\n",
       "    .dataframe thead th {\n",
       "        text-align: right;\n",
       "    }\n",
       "</style>\n",
       "<table border=\"1\" class=\"dataframe\">\n",
       "  <thead>\n",
       "    <tr style=\"text-align: right;\">\n",
       "      <th></th>\n",
       "      <th>customer_id</th>\n",
       "      <th>order_city</th>\n",
       "      <th>order_postal</th>\n",
       "      <th>order_state</th>\n",
       "      <th>latitude</th>\n",
       "      <th>longitude</th>\n",
       "    </tr>\n",
       "  </thead>\n",
       "  <tbody>\n",
       "    <tr>\n",
       "      <th>0</th>\n",
       "      <td>18287</td>\n",
       "      <td>Rock Springs</td>\n",
       "      <td>82901-7321</td>\n",
       "      <td>WY</td>\n",
       "      <td>41.5869</td>\n",
       "      <td>-109.2048</td>\n",
       "    </tr>\n",
       "    <tr>\n",
       "      <th>1</th>\n",
       "      <td>18283</td>\n",
       "      <td>JACKSON</td>\n",
       "      <td>83001-9460</td>\n",
       "      <td>WY</td>\n",
       "      <td>43.4800</td>\n",
       "      <td>-110.7618</td>\n",
       "    </tr>\n",
       "    <tr>\n",
       "      <th>2</th>\n",
       "      <td>18282</td>\n",
       "      <td>Greybull</td>\n",
       "      <td>82426</td>\n",
       "      <td>WY</td>\n",
       "      <td>44.4892</td>\n",
       "      <td>-108.0562</td>\n",
       "    </tr>\n",
       "    <tr>\n",
       "      <th>3</th>\n",
       "      <td>18281</td>\n",
       "      <td>EVANSTON</td>\n",
       "      <td>82930-4706</td>\n",
       "      <td>WY</td>\n",
       "      <td>41.2680</td>\n",
       "      <td>-110.9633</td>\n",
       "    </tr>\n",
       "    <tr>\n",
       "      <th>4</th>\n",
       "      <td>18280</td>\n",
       "      <td>CHEYENNE</td>\n",
       "      <td>82001-7901</td>\n",
       "      <td>WY</td>\n",
       "      <td>41.1400</td>\n",
       "      <td>-104.8202</td>\n",
       "    </tr>\n",
       "  </tbody>\n",
       "</table>\n",
       "</div>"
      ],
      "text/plain": [
       "   customer_id    order_city order_postal order_state  latitude  longitude\n",
       "0        18287  Rock Springs   82901-7321          WY   41.5869  -109.2048\n",
       "1        18283       JACKSON   83001-9460          WY   43.4800  -110.7618\n",
       "2        18282      Greybull        82426          WY   44.4892  -108.0562\n",
       "3        18281      EVANSTON   82930-4706          WY   41.2680  -110.9633\n",
       "4        18280      CHEYENNE   82001-7901          WY   41.1400  -104.8202"
      ]
     },
     "execution_count": 3,
     "metadata": {},
     "output_type": "execute_result"
    }
   ],
   "source": [
    "raw_data_path = data_raw_dir(\"customer.csv\")\n",
    "customer_df = pd.read_csv(raw_data_path, encoding=\"utf-8\")\n",
    "customer_df.head()"
   ]
  },
  {
   "cell_type": "markdown",
   "id": "a7fa8ab9",
   "metadata": {},
   "source": [
    "Se cargó el archivo customer.csv en el dataframe customer_df. La inspección visual del encabezado reveló que las columnas order_city y order_postal presentan formatos inconsistentes. La primera, en particular, mezcla mayúsculas y minúsculas, lo que indica la necesidad de estandarización para evitar duplicados."
   ]
  },
  {
   "cell_type": "code",
   "execution_count": 4,
   "id": "1f6701e3",
   "metadata": {},
   "outputs": [
    {
     "data": {
      "text/html": [
       "<div>\n",
       "<style scoped>\n",
       "    .dataframe tbody tr th:only-of-type {\n",
       "        vertical-align: middle;\n",
       "    }\n",
       "\n",
       "    .dataframe tbody tr th {\n",
       "        vertical-align: top;\n",
       "    }\n",
       "\n",
       "    .dataframe thead th {\n",
       "        text-align: right;\n",
       "    }\n",
       "</style>\n",
       "<table border=\"1\" class=\"dataframe\">\n",
       "  <thead>\n",
       "    <tr style=\"text-align: right;\">\n",
       "      <th></th>\n",
       "      <th>order_state</th>\n",
       "      <th>state_abbreviation</th>\n",
       "      <th>region</th>\n",
       "      <th>state</th>\n",
       "    </tr>\n",
       "  </thead>\n",
       "  <tbody>\n",
       "    <tr>\n",
       "      <th>0</th>\n",
       "      <td>AE</td>\n",
       "      <td>AE</td>\n",
       "      <td>Other</td>\n",
       "      <td>Armed Forces Europe</td>\n",
       "    </tr>\n",
       "    <tr>\n",
       "      <th>1</th>\n",
       "      <td>ak</td>\n",
       "      <td>AK</td>\n",
       "      <td>Other</td>\n",
       "      <td>Alaska</td>\n",
       "    </tr>\n",
       "    <tr>\n",
       "      <th>2</th>\n",
       "      <td>AK</td>\n",
       "      <td>AK</td>\n",
       "      <td>Other</td>\n",
       "      <td>Alaska</td>\n",
       "    </tr>\n",
       "    <tr>\n",
       "      <th>3</th>\n",
       "      <td>AL</td>\n",
       "      <td>AL</td>\n",
       "      <td>East</td>\n",
       "      <td>Alabama</td>\n",
       "    </tr>\n",
       "    <tr>\n",
       "      <th>4</th>\n",
       "      <td>ALABAMA</td>\n",
       "      <td>AL</td>\n",
       "      <td>East</td>\n",
       "      <td>Alabama</td>\n",
       "    </tr>\n",
       "  </tbody>\n",
       "</table>\n",
       "</div>"
      ],
      "text/plain": [
       "  order_state state_abbreviation region                state\n",
       "0          AE                 AE  Other  Armed Forces Europe\n",
       "1          ak                 AK  Other               Alaska\n",
       "2          AK                 AK  Other               Alaska\n",
       "3          AL                 AL   East              Alabama\n",
       "4     ALABAMA                 AL   East              Alabama"
      ]
     },
     "execution_count": 4,
     "metadata": {},
     "output_type": "execute_result"
    }
   ],
   "source": [
    "raw_data_path = data_raw_dir(\"state.csv\")\n",
    "state_df = pd.read_csv(raw_data_path, encoding=\"utf-8\")\n",
    "state_df.head()"
   ]
  },
  {
   "cell_type": "markdown",
   "id": "1baf02ae",
   "metadata": {},
   "source": [
    "Se cargó el archivo state.csv en el dataframe state_df, el cual servirá como catálogo de referencia. Se encontró que la columna order_state tiene formatos variados, mientras que la columna state_abbreviation parece ser el formato estandarizado que se usará para corregir los datos de estado en la tabla de clientes."
   ]
  },
  {
   "cell_type": "code",
   "execution_count": 5,
   "id": "70a6b98f",
   "metadata": {},
   "outputs": [
    {
     "name": "stdout",
     "output_type": "stream",
     "text": [
      "<class 'pandas.core.frame.DataFrame'>\n",
      "RangeIndex: 4372 entries, 0 to 4371\n",
      "Data columns (total 6 columns):\n",
      " #   Column        Non-Null Count  Dtype  \n",
      "---  ------        --------------  -----  \n",
      " 0   customer_id   4372 non-null   int64  \n",
      " 1   order_city    4372 non-null   object \n",
      " 2   order_postal  4372 non-null   object \n",
      " 3   order_state   4372 non-null   object \n",
      " 4   latitude      4282 non-null   float64\n",
      " 5   longitude     4282 non-null   float64\n",
      "dtypes: float64(2), int64(1), object(3)\n",
      "memory usage: 205.1+ KB\n"
     ]
    }
   ],
   "source": [
    "customer_df.info()"
   ]
  },
  {
   "cell_type": "markdown",
   "id": "5ca7a239",
   "metadata": {},
   "source": [
    "La verificación de customer_df reveló que las columnas latitude y longitude no están completas, ya que solo contienen 4,282 valores no nulos de un total de 4,372. Esta es una señal clara de que existen datos faltantes que deben ser tratados para futuros análisis geográficos."
   ]
  },
  {
   "cell_type": "code",
   "execution_count": 6,
   "id": "adc8bed1",
   "metadata": {},
   "outputs": [
    {
     "name": "stdout",
     "output_type": "stream",
     "text": [
      "      Column  Complete Values  Complete Data  Missing Values  Missing Data\n",
      " customer_id             4372           1.00               0          0.00\n",
      "  order_city             4372           1.00               0          0.00\n",
      "order_postal             4372           1.00               0          0.00\n",
      " order_state             4372           1.00               0          0.00\n",
      "    latitude             4282           0.98              90          0.02\n",
      "   longitude             4282           0.98              90          0.02\n"
     ]
    },
    {
     "data": {
      "image/png": "[encoded data removed]",
      "text/plain": [
       "<Figure size 654.875x500 with 1 Axes>"
      ]
     },
     "metadata": {},
     "output_type": "display_data"
    }
   ],
   "source": [
    "customer_df_columns = list(customer_df.columns)\n",
    "plots.completeness_barplot(df=customer_df, columns=customer_df_columns, df_name=\"Customer\")"
   ]
  },
  {
   "cell_type": "markdown",
   "id": "c18bac88",
   "metadata": {},
   "source": [
    "El gráfico de barras de completitud revela que las columnas latitude y longitude tienen un 2% de datos faltantes, mientras que el resto de las columnas del dataframe customer_df están 100% completas. "
   ]
  },
  {
   "cell_type": "code",
   "execution_count": 7,
   "id": "2516c782",
   "metadata": {},
   "outputs": [
    {
     "data": {
      "text/plain": [
       "0"
      ]
     },
     "execution_count": 7,
     "metadata": {},
     "output_type": "execute_result"
    }
   ],
   "source": [
    "duplicated_rows = customer_df.duplicated(keep=False)\n",
    "duplicated_rows_count = int(duplicated_rows.sum())\n",
    "duplicated_rows_count"
   ]
  },
  {
   "cell_type": "markdown",
   "id": "4e699214",
   "metadata": {},
   "source": [
    "Se verificaron los registros duplicados en el dataframe customer_df. La consulta no arrojó resultados, lo que confirma que no hay filas duplicadas en la tabla. "
   ]
  },
  {
   "cell_type": "code",
   "execution_count": 8,
   "id": "918481f4",
   "metadata": {},
   "outputs": [
    {
     "name": "stdout",
     "output_type": "stream",
     "text": [
      "      Column  Unique Values\n",
      " customer_id           4372\n",
      "  order_city           2657\n",
      "order_postal           4239\n",
      " order_state            206\n",
      "    latitude           2402\n",
      "   longitude           2412\n"
     ]
    },
    {
     "data": {
      "image/png": "[encoded data removed]",
      "text/plain": [
       "<Figure size 500x500 with 1 Axes>"
      ]
     },
     "metadata": {},
     "output_type": "display_data"
    }
   ],
   "source": [
    "plots.uniqueness_barplot(df=customer_df, columns=customer_df_columns, df_name=\"Customer\")"
   ]
  },
  {
   "cell_type": "markdown",
   "id": "78b2b011",
   "metadata": {},
   "source": [
    "El gráfico de barras de valores únicos revela que las columnas order_city y order_postal tienen una alta cardinalidad. Por otro lado, order_state tiene un número de valores únicos muy bajo en comparación con el total de registros, lo que refuerza su rol como una categoría que se puede normalizar."
   ]
  },
  {
   "cell_type": "code",
   "execution_count": 9,
   "id": "5229555a",
   "metadata": {},
   "outputs": [
    {
     "data": {
      "text/plain": [
       "array(['WY', 'WV', 'Wisconsin', 'WI', 'wi', 'Wi', 'WEST VIRGINIA',\n",
       "       'WASHINGTON', 'Washington', 'WA', 'wa', 'Wa', 'VT', 'VIRGINIA',\n",
       "       'Virginia', 'VERMONT', 'Va.', 'VA', 'va', 'Va', 'UTAH', 'Utah',\n",
       "       'UT', 'Tx', 'TX', 'tx', 'TN', 'tn', 'Texas', 'TEXAS', 'texas',\n",
       "       'Tennessee', 'TENNESSEE', 'South Carolina', 'SOUTH CAROLINA', 'SD',\n",
       "       'SC', 'sc', 'RI', 'ri', 'Rhode Island', 'RHODE ISLAND', 'ALASKA',\n",
       "       'Alaska', 'Delaware', 'DE', 'Pennsylvania', 'PENNSYLVANIA', 'Pa.',\n",
       "       'PA', 'Pa', 'pa', 'OREGON', 'Oregon', 'OR', 'or', 'Or', 'OKLAHOMA',\n",
       "       'Oklahoma', 'OK', 'Ok', 'ok', 'Ohio', 'OHIO', 'OH', 'oh', 'NY',\n",
       "       'ny', 'Ny', 'NV', 'North Carolina', 'NORTH CAROLINA', 'NM', 'NJ',\n",
       "       'nj', 'Nj', 'NH', 'nh', 'NEW YORK', 'new york', 'New York',\n",
       "       'New Mexico', 'NEW MEXICO', 'New Jersey', 'new jersey',\n",
       "       'NEW JERSEY', 'New Hampshire', 'NEVADA', 'Nebraska', 'NE', 'Ne',\n",
       "       'ND', 'NC', 'nc', 'N.Y.', 'N.C.', 'n.c.', 'MT', 'MS', 'MONTANA',\n",
       "       'MO', 'mo', 'MN', 'Mn', 'Missouri', 'MISSOURI', 'Mississippi',\n",
       "       'Minnesota', 'MINNESOTA', 'MICHIGAN', 'Michigan', 'michigan', 'MI',\n",
       "       'Mi', 'mi', 'ME', 'MD', 'Md', 'Massachusetts', 'MASSACHUSETTS',\n",
       "       'Maryland', 'MARYLAND', 'MAINE', 'ma', 'MA', 'Ma', 'LOUISIANA',\n",
       "       'Louisiana', 'LA', 'La', 'KY.', 'KY', 'Ky', 'KS', 'Ks', 'KENTUCKY',\n",
       "       'KANSAS', 'Kansas', 'Iowa', 'IOWA', 'Indiana', 'INDIANA',\n",
       "       'indiana', 'IN.', 'IN', 'In', 'in', 'Illinois', 'ILLINOIS',\n",
       "       'illinois', 'IL.', 'IL', 'il', 'Il', 'IDAHO', 'Idaho', 'ID', 'IA',\n",
       "       'Ia', 'HI', 'Hawaii', 'HAWAII', 'Georgia', 'GEORGIA', 'georgia',\n",
       "       'GA', 'ga', 'FLORIDA', 'Florida', 'florida', 'FL', 'Fl', 'fl',\n",
       "       'District of Columbia', 'De', 'DC', 'CT', 'Ct', 'ct',\n",
       "       'CONNECTICUT', 'Connecticut', 'COLORADO', 'Colorado', 'CO', 'co',\n",
       "       'Co', 'california', 'CALIFORNIA', 'California', 'Ca.', 'CA', 'ca',\n",
       "       'Ca', 'Az.', 'AZ', 'Az', 'Arkansas', 'Arizona', 'ARIZONA', 'AR',\n",
       "       'ALABAMA', 'Alabama', 'AL', 'Al', 'AK', 'ak'], dtype=object)"
      ]
     },
     "execution_count": 9,
     "metadata": {},
     "output_type": "execute_result"
    }
   ],
   "source": [
    "customer_df[\"order_state\"].unique()"
   ]
  },
  {
   "cell_type": "markdown",
   "id": "cb4d638a",
   "metadata": {},
   "source": [
    "La inspección de los valores únicos en la columna order_state revela una falta de estandarización. Se observan variaciones en mayúsculas y minúsculas, nombres completos y abreviaturas para un mismo estado. "
   ]
  },
  {
   "cell_type": "code",
   "execution_count": 10,
   "id": "a896b56b",
   "metadata": {},
   "outputs": [
    {
     "data": {
      "text/plain": [
       "array(['WY', 'WV', 'WI', 'WA', 'VT', 'VA', 'UT', 'TX', 'TN', 'SC', 'SD',\n",
       "       'RI', 'AK', 'DE', 'PA', 'OR', 'OK', 'OH', 'NY', 'NV', 'NC', 'NM',\n",
       "       'NJ', 'NH', 'NE', 'ND', 'MT', 'MS', 'MO', 'MN', 'MI', 'ME', 'MD',\n",
       "       'MA', 'LA', 'KY', 'KS', 'IA', 'IN', 'IL', 'ID', 'HI', 'GA', 'FL',\n",
       "       'DC', 'CT', 'CO', 'CA', 'AZ', 'AR', 'AL'], dtype=object)"
      ]
     },
     "execution_count": 10,
     "metadata": {},
     "output_type": "execute_result"
    }
   ],
   "source": [
    "state_df[\"order_state\"] = state_df[\"order_state\"].str.replace(r\"[,.:;_\\-]\", \"\", regex=True).str.capitalize()\n",
    "state_df[\"state\"] = state_df[\"state\"].str.replace(r\"[,.:;_\\-]\", \"\", regex=True).str.capitalize()\n",
    "\n",
    "customer_df[\"order_state\"] = customer_df[\"order_state\"].str.replace(r\"[,.:;_\\-]\", \"\", regex=True).str.capitalize()\n",
    "map1 = dict(state_df[[\"order_state\", \"state_abbreviation\"]].drop_duplicates().values)\n",
    "map2 = dict(state_df[[\"state\", \"state_abbreviation\"]].drop_duplicates().values)\n",
    "mapping = map1 | map2\n",
    "customer_df[\"order_state\"] = customer_df[\"order_state\"].replace(mapping)\n",
    "\n",
    "customer_df[\"order_state\"].unique()"
   ]
  },
  {
   "cell_type": "code",
   "execution_count": 11,
   "id": "0dac0709",
   "metadata": {},
   "outputs": [],
   "source": [
    "customer_df[\"order_state\"] = customer_df[\"order_state\"].astype(\"category\")"
   ]
  },
  {
   "cell_type": "markdown",
   "id": "502000f9",
   "metadata": {},
   "source": [
    "La columna order_state se estandarizó para corregir las inconsistencias. Se utilizaron diccionarios de mapeo para reemplazar los valores variados con sus abreviaturas estandarizadas, garantizando que todos los estados ahora tengan un formato uniforme."
   ]
  },
  {
   "cell_type": "code",
   "execution_count": 12,
   "id": "546f8dc4",
   "metadata": {},
   "outputs": [
    {
     "data": {
      "text/plain": [
       "array(['Rock Springs', 'JACKSON', 'Greybull', ..., 'Kodiak', 'anchorage',\n",
       "       'ANCHORAGE'], dtype=object)"
      ]
     },
     "execution_count": 12,
     "metadata": {},
     "output_type": "execute_result"
    }
   ],
   "source": [
    "customer_df[\"order_city\"].unique()"
   ]
  },
  {
   "cell_type": "markdown",
   "id": "1676f884",
   "metadata": {},
   "source": [
    "La inspección de los valores únicos en la columna order_city revela una falta de estandarización. Se observan variaciones en mayúsculas y minúsculas para un mismo nombre de ciudad."
   ]
  },
  {
   "cell_type": "code",
   "execution_count": 13,
   "id": "d2f57003",
   "metadata": {},
   "outputs": [
    {
     "data": {
      "text/plain": [
       "array(['Rock springs', 'Jackson', 'Greybull', ..., 'Abbeville', 'Kodiak',\n",
       "       'Anchorage'], dtype=object)"
      ]
     },
     "execution_count": 13,
     "metadata": {},
     "output_type": "execute_result"
    }
   ],
   "source": [
    "customer_df[\"order_city\"] = customer_df[\"order_city\"].replace(r\"[,.:;_\\-]\", \"\", regex=True).str.capitalize()\n",
    "customer_df[\"order_city\"].unique()"
   ]
  },
  {
   "cell_type": "code",
   "execution_count": 14,
   "id": "de34411c",
   "metadata": {},
   "outputs": [],
   "source": [
    "customer_df[\"order_city\"] = customer_df[\"order_city\"].astype(\"category\")"
   ]
  },
  {
   "cell_type": "markdown",
   "id": "f67766e5",
   "metadata": {},
   "source": [
    "Se estandarizaron los valores de la columna order_city al convertirlos a un formato de mayúscula inicial. Esto ayuda a eliminar duplicados y asegura que los nombres de las ciudades sean consistentes para el análisis."
   ]
  },
  {
   "cell_type": "code",
   "execution_count": 15,
   "id": "5ff3bf1a",
   "metadata": {},
   "outputs": [
    {
     "data": {
      "text/plain": [
       "0"
      ]
     },
     "execution_count": 15,
     "metadata": {},
     "output_type": "execute_result"
    }
   ],
   "source": [
    "duplicated_rows = customer_df.duplicated(keep=False)\n",
    "duplicated_rows_count = int(duplicated_rows.sum())\n",
    "duplicated_rows_count"
   ]
  },
  {
   "cell_type": "code",
   "execution_count": 16,
   "id": "8f992aab",
   "metadata": {},
   "outputs": [
    {
     "name": "stdout",
     "output_type": "stream",
     "text": [
      "<class 'pandas.core.frame.DataFrame'>\n",
      "RangeIndex: 4372 entries, 0 to 4371\n",
      "Data columns (total 6 columns):\n",
      " #   Column        Non-Null Count  Dtype   \n",
      "---  ------        --------------  -----   \n",
      " 0   customer_id   4372 non-null   int64   \n",
      " 1   order_city    4372 non-null   category\n",
      " 2   order_postal  4372 non-null   object  \n",
      " 3   order_state   4372 non-null   category\n",
      " 4   latitude      4282 non-null   float64 \n",
      " 5   longitude     4282 non-null   float64 \n",
      "dtypes: category(2), float64(2), int64(1), object(1)\n",
      "memory usage: 233.9+ KB\n"
     ]
    }
   ],
   "source": [
    "customer_df.info()"
   ]
  },
  {
   "cell_type": "markdown",
   "id": "b5c7e492",
   "metadata": {},
   "source": [
    "El dataframe fue inspeccionado nuevamente después de la estandarización. Se confirmó que no hay registros duplicados. Adicionalmente, se verificó que las columnas order_city y order_state ahora tienen el tipo de dato category, lo que optimiza su uso y confirma el éxito del proceso de limpieza."
   ]
  },
  {
   "cell_type": "code",
   "execution_count": 17,
   "id": "c4d45502",
   "metadata": {},
   "outputs": [],
   "source": [
    "interim_data_path = data_interim_dir('customer.csv')\n",
    "customer_df.to_csv(interim_data_path, index=False)"
   ]
  },
  {
   "cell_type": "markdown",
   "id": "da4f47a0",
   "metadata": {},
   "source": [
    "#### **State Table Preparation**"
   ]
  },
  {
   "cell_type": "code",
   "execution_count": 18,
   "id": "b5998fe4",
   "metadata": {},
   "outputs": [
    {
     "data": {
      "text/html": [
       "<div>\n",
       "<style scoped>\n",
       "    .dataframe tbody tr th:only-of-type {\n",
       "        vertical-align: middle;\n",
       "    }\n",
       "\n",
       "    .dataframe tbody tr th {\n",
       "        vertical-align: top;\n",
       "    }\n",
       "\n",
       "    .dataframe thead th {\n",
       "        text-align: right;\n",
       "    }\n",
       "</style>\n",
       "<table border=\"1\" class=\"dataframe\">\n",
       "  <thead>\n",
       "    <tr style=\"text-align: right;\">\n",
       "      <th></th>\n",
       "      <th>order_state</th>\n",
       "      <th>state_abbreviation</th>\n",
       "      <th>region</th>\n",
       "      <th>state</th>\n",
       "    </tr>\n",
       "  </thead>\n",
       "  <tbody>\n",
       "    <tr>\n",
       "      <th>0</th>\n",
       "      <td>AE</td>\n",
       "      <td>AE</td>\n",
       "      <td>Other</td>\n",
       "      <td>Armed Forces Europe</td>\n",
       "    </tr>\n",
       "    <tr>\n",
       "      <th>1</th>\n",
       "      <td>ak</td>\n",
       "      <td>AK</td>\n",
       "      <td>Other</td>\n",
       "      <td>Alaska</td>\n",
       "    </tr>\n",
       "    <tr>\n",
       "      <th>2</th>\n",
       "      <td>AK</td>\n",
       "      <td>AK</td>\n",
       "      <td>Other</td>\n",
       "      <td>Alaska</td>\n",
       "    </tr>\n",
       "    <tr>\n",
       "      <th>3</th>\n",
       "      <td>AL</td>\n",
       "      <td>AL</td>\n",
       "      <td>East</td>\n",
       "      <td>Alabama</td>\n",
       "    </tr>\n",
       "    <tr>\n",
       "      <th>4</th>\n",
       "      <td>ALABAMA</td>\n",
       "      <td>AL</td>\n",
       "      <td>East</td>\n",
       "      <td>Alabama</td>\n",
       "    </tr>\n",
       "  </tbody>\n",
       "</table>\n",
       "</div>"
      ],
      "text/plain": [
       "  order_state state_abbreviation region                state\n",
       "0          AE                 AE  Other  Armed Forces Europe\n",
       "1          ak                 AK  Other               Alaska\n",
       "2          AK                 AK  Other               Alaska\n",
       "3          AL                 AL   East              Alabama\n",
       "4     ALABAMA                 AL   East              Alabama"
      ]
     },
     "execution_count": 18,
     "metadata": {},
     "output_type": "execute_result"
    }
   ],
   "source": [
    "raw_data_path = data_raw_dir(\"state.csv\")\n",
    "state_df = pd.read_csv(raw_data_path, encoding=\"utf-8\")\n",
    "state_df.head()"
   ]
  },
  {
   "cell_type": "code",
   "execution_count": 19,
   "id": "20992786",
   "metadata": {},
   "outputs": [],
   "source": [
    "state_df.drop(columns=[\"order_state\"],inplace=True)\n",
    "state_df.rename(columns={\"state_abbreviation\":\"order_state\"}, inplace=True)"
   ]
  },
  {
   "cell_type": "code",
   "execution_count": 20,
   "id": "af12c2cf",
   "metadata": {},
   "outputs": [
    {
     "name": "stdout",
     "output_type": "stream",
     "text": [
      "<class 'pandas.core.frame.DataFrame'>\n",
      "RangeIndex: 192 entries, 0 to 191\n",
      "Data columns (total 3 columns):\n",
      " #   Column       Non-Null Count  Dtype \n",
      "---  ------       --------------  ----- \n",
      " 0   order_state  192 non-null    object\n",
      " 1   region       192 non-null    object\n",
      " 2   state        192 non-null    object\n",
      "dtypes: object(3)\n",
      "memory usage: 4.6+ KB\n"
     ]
    }
   ],
   "source": [
    "state_df.info()"
   ]
  },
  {
   "cell_type": "markdown",
   "id": "573e21b0",
   "metadata": {},
   "source": [
    "El dataframe state_df fue normalizado al eliminar la columna order_state y renombrar state_abbreviation a order_state. La inspección posterior de la tabla confirmó que ahora tiene solo tres columnas y que todas están 100% completas, lo que valida que el proceso de limpieza y simplificación fue exitoso."
   ]
  },
  {
   "cell_type": "code",
   "execution_count": 21,
   "id": "11036eec",
   "metadata": {},
   "outputs": [
    {
     "name": "stdout",
     "output_type": "stream",
     "text": [
      "     Column  Complete Values  Complete Data  Missing Values  Missing Data\n",
      "order_state              192            1.0               0           0.0\n",
      "     region              192            1.0               0           0.0\n",
      "      state              192            1.0               0           0.0\n"
     ]
    },
    {
     "data": {
      "image/png": "[encoded data removed]",
      "text/plain": [
       "<Figure size 654.875x500 with 1 Axes>"
      ]
     },
     "metadata": {},
     "output_type": "display_data"
    }
   ],
   "source": [
    "state_df_columns = list(state_df.columns)\n",
    "plots.completeness_barplot(df=state_df, columns=state_df_columns, df_name=\"State\")"
   ]
  },
  {
   "cell_type": "markdown",
   "id": "55b87e64",
   "metadata": {},
   "source": [
    "El gráfico de barras de completitud confirma visualmente que el dataframe state_df no tiene ningún valor nulo."
   ]
  },
  {
   "cell_type": "code",
   "execution_count": 22,
   "id": "d720d3df",
   "metadata": {},
   "outputs": [
    {
     "data": {
      "text/plain": [
       "184"
      ]
     },
     "execution_count": 22,
     "metadata": {},
     "output_type": "execute_result"
    }
   ],
   "source": [
    "duplicated_rows = state_df.duplicated(keep=False)\n",
    "duplicated_rows_count = int(duplicated_rows.sum())\n",
    "duplicated_rows_count                   "
   ]
  },
  {
   "cell_type": "code",
   "execution_count": 23,
   "id": "c60c87e0",
   "metadata": {},
   "outputs": [
    {
     "data": {
      "text/html": [
       "<div>\n",
       "<style scoped>\n",
       "    .dataframe tbody tr th:only-of-type {\n",
       "        vertical-align: middle;\n",
       "    }\n",
       "\n",
       "    .dataframe tbody tr th {\n",
       "        vertical-align: top;\n",
       "    }\n",
       "\n",
       "    .dataframe thead th {\n",
       "        text-align: right;\n",
       "    }\n",
       "</style>\n",
       "<table border=\"1\" class=\"dataframe\">\n",
       "  <thead>\n",
       "    <tr style=\"text-align: right;\">\n",
       "      <th></th>\n",
       "      <th>order_state</th>\n",
       "      <th>region</th>\n",
       "      <th>state</th>\n",
       "    </tr>\n",
       "  </thead>\n",
       "  <tbody>\n",
       "    <tr>\n",
       "      <th>1</th>\n",
       "      <td>AK</td>\n",
       "      <td>Other</td>\n",
       "      <td>Alaska</td>\n",
       "    </tr>\n",
       "    <tr>\n",
       "      <th>2</th>\n",
       "      <td>AK</td>\n",
       "      <td>Other</td>\n",
       "      <td>Alaska</td>\n",
       "    </tr>\n",
       "    <tr>\n",
       "      <th>3</th>\n",
       "      <td>AL</td>\n",
       "      <td>East</td>\n",
       "      <td>Alabama</td>\n",
       "    </tr>\n",
       "    <tr>\n",
       "      <th>4</th>\n",
       "      <td>AL</td>\n",
       "      <td>East</td>\n",
       "      <td>Alabama</td>\n",
       "    </tr>\n",
       "    <tr>\n",
       "      <th>5</th>\n",
       "      <td>AK</td>\n",
       "      <td>Other</td>\n",
       "      <td>Alaska</td>\n",
       "    </tr>\n",
       "  </tbody>\n",
       "</table>\n",
       "</div>"
      ],
      "text/plain": [
       "  order_state region    state\n",
       "1          AK  Other   Alaska\n",
       "2          AK  Other   Alaska\n",
       "3          AL   East  Alabama\n",
       "4          AL   East  Alabama\n",
       "5          AK  Other   Alaska"
      ]
     },
     "execution_count": 23,
     "metadata": {},
     "output_type": "execute_result"
    }
   ],
   "source": [
    "state_df[duplicated_rows].head()"
   ]
  },
  {
   "cell_type": "code",
   "execution_count": 24,
   "id": "e419ff81",
   "metadata": {},
   "outputs": [],
   "source": [
    "state_df.drop_duplicates(inplace=True)"
   ]
  },
  {
   "cell_type": "markdown",
   "id": "372351cb",
   "metadata": {},
   "source": [
    "La inspección de duplicados en el dataframe state_df reveló la presencia de filas idénticas. Estas duplicidades se originaron por la eliminación de la columna order_state que contenía datos inconsistentes, lo que expuso registros idénticos. El siguiente paso fue eliminar estas filas para garantizar que cada estado tenga un registro único."
   ]
  },
  {
   "cell_type": "code",
   "execution_count": 25,
   "id": "8017f6b4",
   "metadata": {},
   "outputs": [
    {
     "name": "stdout",
     "output_type": "stream",
     "text": [
      "     Column  Unique Values\n",
      "order_state             54\n",
      "     region              4\n",
      "      state             54\n"
     ]
    },
    {
     "data": {
      "image/png": "[encoded data removed]",
      "text/plain": [
       "<Figure size 500x500 with 1 Axes>"
      ]
     },
     "metadata": {},
     "output_type": "display_data"
    }
   ],
   "source": [
    "plots.uniqueness_barplot(df=state_df, columns=state_df_columns, df_name=\"State\")"
   ]
  },
  {
   "cell_type": "markdown",
   "id": "af2e08df",
   "metadata": {},
   "source": [
    "El gráfico de barras de valores únicos muestra que order_state y state tienen 54 valores únicos, lo cual es lo esperado. La columna region solo tiene 4 valores únicos, lo que la convierte en una variable categórica ideal para análisis de segmentación."
   ]
  },
  {
   "cell_type": "code",
   "execution_count": 26,
   "id": "eb05e08d",
   "metadata": {},
   "outputs": [
    {
     "data": {
      "text/plain": [
       "array(['Armed Forces Europe', 'Alaska', 'Alabama', 'Arkansas', 'Arizona',\n",
       "       'California', 'Colorado', 'Connecticut', 'District of Columbia',\n",
       "       'Delaware', 'Florida', 'Georgia', 'Hawaii', 'Iowa', 'Idaho',\n",
       "       'Illinois', 'Indiana', 'Kansas', 'Kentucky', 'Louisiana',\n",
       "       'Massachusetts', 'Maine', 'Maryland', 'Michigan', 'Minnesota',\n",
       "       'Missouri', 'Montana', 'Mississippi', 'North Carolina', 'New York',\n",
       "       'North Dakota', 'Nebraska', 'Nevada', 'New Hampshire',\n",
       "       'New Jersey', 'New Mexico', 'Ohio', 'Oklahoma', 'Oregon',\n",
       "       'Pennsylvania', 'Puerto Rico', 'Rhode Island', 'South Carolina',\n",
       "       'South Dakota', 'Tennessee', 'Texas', 'Virgin Islands', 'Utah',\n",
       "       'Virginia', 'Vermont', 'Washington', 'West Virginia', 'Wisconsin',\n",
       "       'Wyoming'], dtype=object)"
      ]
     },
     "execution_count": 26,
     "metadata": {},
     "output_type": "execute_result"
    }
   ],
   "source": [
    "state_df[\"state\"].unique()"
   ]
  },
  {
   "cell_type": "code",
   "execution_count": 27,
   "id": "29b14fb6",
   "metadata": {},
   "outputs": [],
   "source": [
    "state_df[\"state\"] = state_df[\"state\"].astype(\"category\")"
   ]
  },
  {
   "cell_type": "code",
   "execution_count": 28,
   "id": "f9f58010",
   "metadata": {},
   "outputs": [
    {
     "data": {
      "text/plain": [
       "array(['Other', 'East', 'Central', 'West'], dtype=object)"
      ]
     },
     "execution_count": 28,
     "metadata": {},
     "output_type": "execute_result"
    }
   ],
   "source": [
    "state_df[\"region\"].unique()"
   ]
  },
  {
   "cell_type": "code",
   "execution_count": 29,
   "id": "21d1b842",
   "metadata": {},
   "outputs": [],
   "source": [
    "state_df[\"region\"] = state_df[\"region\"].astype(\"category\")"
   ]
  },
  {
   "cell_type": "code",
   "execution_count": 30,
   "id": "c82d4241",
   "metadata": {},
   "outputs": [
    {
     "data": {
      "text/plain": [
       "array(['AE', 'AK', 'AL', 'AR', 'AZ', 'CA', 'CO', 'CT', 'DC', 'DE', 'FL',\n",
       "       'GA', 'HI', 'IA', 'ID', 'IL', 'IN', 'KS', 'KY', 'LA', 'MA', 'ME',\n",
       "       'MD', 'MI', 'MN', 'MO', 'MT', 'MS', 'NC', 'NY', 'ND', 'NE', 'NV',\n",
       "       'NH', 'NJ', 'NM', 'OH', 'OK', 'OR', 'PA', 'PR', 'RI', 'SC', 'SD',\n",
       "       'TN', 'TX', 'VI', 'UT', 'VA', 'VT', 'WA', 'WV', 'WI', 'WY'],\n",
       "      dtype=object)"
      ]
     },
     "execution_count": 30,
     "metadata": {},
     "output_type": "execute_result"
    }
   ],
   "source": [
    "state_df[\"order_state\"].unique()"
   ]
  },
  {
   "cell_type": "code",
   "execution_count": 31,
   "id": "4c191f91",
   "metadata": {},
   "outputs": [],
   "source": [
    "state_df[\"order_state\"] = state_df[\"order_state\"].astype(\"category\")"
   ]
  },
  {
   "cell_type": "markdown",
   "id": "c45c866f",
   "metadata": {},
   "source": [
    "La inspección de los valores únicos en las columnas state, region y order_state revelaron que no hay inconsistencias. La columnas se convirtieron a tipo de dato category para asegurar que los datos estén listos para el análisis."
   ]
  },
  {
   "cell_type": "code",
   "execution_count": 32,
   "id": "d9db8193",
   "metadata": {},
   "outputs": [
    {
     "name": "stdout",
     "output_type": "stream",
     "text": [
      "<class 'pandas.core.frame.DataFrame'>\n",
      "Index: 54 entries, 0 to 191\n",
      "Data columns (total 3 columns):\n",
      " #   Column       Non-Null Count  Dtype   \n",
      "---  ------       --------------  -----   \n",
      " 0   order_state  54 non-null     category\n",
      " 1   region       54 non-null     category\n",
      " 2   state        54 non-null     category\n",
      "dtypes: category(3)\n",
      "memory usage: 5.7 KB\n"
     ]
    }
   ],
   "source": [
    "state_df.info()"
   ]
  },
  {
   "cell_type": "code",
   "execution_count": 33,
   "id": "3438c7e2",
   "metadata": {},
   "outputs": [
    {
     "data": {
      "text/plain": [
       "0"
      ]
     },
     "execution_count": 33,
     "metadata": {},
     "output_type": "execute_result"
    }
   ],
   "source": [
    "duplicated_rows = state_df.duplicated(keep=False)\n",
    "duplicated_rows_count = int(duplicated_rows.sum())\n",
    "duplicated_rows_count"
   ]
  },
  {
   "cell_type": "markdown",
   "id": "9d366f0f",
   "metadata": {},
   "source": [
    "El dataframe fue inspeccionado después del proceso de limpieza. Se confirmó que todas las columnas order_state, region y state están 100% completas y que no existen registros duplicados."
   ]
  },
  {
   "cell_type": "code",
   "execution_count": 34,
   "id": "4b892759",
   "metadata": {},
   "outputs": [],
   "source": [
    "interim_data_path = data_interim_dir(\"state.csv\")\n",
    "state_df.to_csv(interim_data_path, index=False)"
   ]
  },
  {
   "cell_type": "markdown",
   "id": "791dc8e2",
   "metadata": {},
   "source": [
    "#### **Product Table Preparation**"
   ]
  },
  {
   "cell_type": "code",
   "execution_count": 35,
   "id": "2ec93a43",
   "metadata": {},
   "outputs": [
    {
     "data": {
      "text/html": [
       "<div>\n",
       "<style scoped>\n",
       "    .dataframe tbody tr th:only-of-type {\n",
       "        vertical-align: middle;\n",
       "    }\n",
       "\n",
       "    .dataframe tbody tr th {\n",
       "        vertical-align: top;\n",
       "    }\n",
       "\n",
       "    .dataframe thead th {\n",
       "        text-align: right;\n",
       "    }\n",
       "</style>\n",
       "<table border=\"1\" class=\"dataframe\">\n",
       "  <thead>\n",
       "    <tr style=\"text-align: right;\">\n",
       "      <th></th>\n",
       "      <th>stock_code</th>\n",
       "      <th>weight</th>\n",
       "      <th>landed_cost</th>\n",
       "      <th>shipping_cost_1000_mile</th>\n",
       "      <th>description</th>\n",
       "      <th>category</th>\n",
       "    </tr>\n",
       "  </thead>\n",
       "  <tbody>\n",
       "    <tr>\n",
       "      <th>0</th>\n",
       "      <td>22423</td>\n",
       "      <td>40.0</td>\n",
       "      <td>35.0</td>\n",
       "      <td>20.0</td>\n",
       "      <td>Taste of the Wild High Prairie Grain-Free Dry ...</td>\n",
       "      <td>Food</td>\n",
       "    </tr>\n",
       "    <tr>\n",
       "      <th>1</th>\n",
       "      <td>85123A</td>\n",
       "      <td>2.0</td>\n",
       "      <td>6.0</td>\n",
       "      <td>5.0</td>\n",
       "      <td>Dog and Puppy Pads</td>\n",
       "      <td>Disposables</td>\n",
       "    </tr>\n",
       "    <tr>\n",
       "      <th>2</th>\n",
       "      <td>47566</td>\n",
       "      <td>6.0</td>\n",
       "      <td>18.0</td>\n",
       "      <td>12.0</td>\n",
       "      <td>Memory Foam Pet Beds for Small, Medium, and La...</td>\n",
       "      <td>Disposables</td>\n",
       "    </tr>\n",
       "    <tr>\n",
       "      <th>3</th>\n",
       "      <td>85099B</td>\n",
       "      <td>2.0</td>\n",
       "      <td>5.0</td>\n",
       "      <td>4.0</td>\n",
       "      <td>Earth Rated Dog Poop Bags</td>\n",
       "      <td>Disposables</td>\n",
       "    </tr>\n",
       "    <tr>\n",
       "      <th>4</th>\n",
       "      <td>23084</td>\n",
       "      <td>2.0</td>\n",
       "      <td>6.0</td>\n",
       "      <td>6.0</td>\n",
       "      <td>Templation Soft Cat Treats</td>\n",
       "      <td>Pet Food</td>\n",
       "    </tr>\n",
       "  </tbody>\n",
       "</table>\n",
       "</div>"
      ],
      "text/plain": [
       "  stock_code  weight  landed_cost  shipping_cost_1000_mile  \\\n",
       "0      22423    40.0         35.0                     20.0   \n",
       "1     85123A     2.0          6.0                      5.0   \n",
       "2      47566     6.0         18.0                     12.0   \n",
       "3     85099B     2.0          5.0                      4.0   \n",
       "4      23084     2.0          6.0                      6.0   \n",
       "\n",
       "                                         description     category  \n",
       "0  Taste of the Wild High Prairie Grain-Free Dry ...         Food  \n",
       "1                                 Dog and Puppy Pads  Disposables  \n",
       "2  Memory Foam Pet Beds for Small, Medium, and La...  Disposables  \n",
       "3                          Earth Rated Dog Poop Bags  Disposables  \n",
       "4                         Templation Soft Cat Treats     Pet Food  "
      ]
     },
     "execution_count": 35,
     "metadata": {},
     "output_type": "execute_result"
    }
   ],
   "source": [
    "raw_data_path = data_raw_dir(\"product.csv\")\n",
    "product_df = pd.read_csv(raw_data_path, encoding=\"utf-8\")\n",
    "product_df.head()"
   ]
  },
  {
   "cell_type": "markdown",
   "id": "86ebe017",
   "metadata": {},
   "source": [
    "La carga del archivo product.csv en el dataframe product_df reveló que la columna stock_code presenta un formato inconsistente. Se observan variaciones donde algunos valores terminan en una letra, lo que indica la necesidad de estandarización para asegurar la uniformidad de los datos."
   ]
  },
  {
   "cell_type": "code",
   "execution_count": 36,
   "id": "1619170f",
   "metadata": {},
   "outputs": [
    {
     "name": "stdout",
     "output_type": "stream",
     "text": [
      "<class 'pandas.core.frame.DataFrame'>\n",
      "RangeIndex: 20 entries, 0 to 19\n",
      "Data columns (total 6 columns):\n",
      " #   Column                   Non-Null Count  Dtype  \n",
      "---  ------                   --------------  -----  \n",
      " 0   stock_code               20 non-null     object \n",
      " 1   weight                   20 non-null     float64\n",
      " 2   landed_cost              20 non-null     float64\n",
      " 3   shipping_cost_1000_mile  20 non-null     float64\n",
      " 4   description              20 non-null     object \n",
      " 5   category                 20 non-null     object \n",
      "dtypes: float64(3), object(3)\n",
      "memory usage: 1.1+ KB\n"
     ]
    }
   ],
   "source": [
    "product_df.info()"
   ]
  },
  {
   "cell_type": "markdown",
   "id": "3c63414b",
   "metadata": {},
   "source": [
    "La inspección de la información del dataframe product_df confirmó que no hay valores nulos y que todas las columnas contienen 20 registros. "
   ]
  },
  {
   "cell_type": "code",
   "execution_count": 37,
   "id": "13353aa4",
   "metadata": {},
   "outputs": [
    {
     "name": "stdout",
     "output_type": "stream",
     "text": [
      "                 Column  Complete Values  Complete Data  Missing Values  Missing Data\n",
      "             stock_code               20            1.0               0           0.0\n",
      "                 weight               20            1.0               0           0.0\n",
      "            landed_cost               20            1.0               0           0.0\n",
      "shipping_cost_1000_mile               20            1.0               0           0.0\n",
      "            description               20            1.0               0           0.0\n",
      "               category               20            1.0               0           0.0\n"
     ]
    },
    {
     "data": {
      "image/png": "[encoded data removed]",
      "text/plain": [
       "<Figure size 654.875x500 with 1 Axes>"
      ]
     },
     "metadata": {},
     "output_type": "display_data"
    }
   ],
   "source": [
    "product_df_columns = list(product_df.columns)\n",
    "plots.completeness_barplot(df=product_df, columns=product_df_columns, df_name=\"Product\")"
   ]
  },
  {
   "cell_type": "markdown",
   "id": "e8e6672a",
   "metadata": {},
   "source": [
    "El gráfico de barras de completitud confirma que el dataframe product_df no tiene ningún valor nulo, ya que todas las columnas tienen una proporción de 1.0 de datos completos. "
   ]
  },
  {
   "cell_type": "code",
   "execution_count": 38,
   "id": "42a40840",
   "metadata": {},
   "outputs": [
    {
     "data": {
      "text/plain": [
       "0"
      ]
     },
     "execution_count": 38,
     "metadata": {},
     "output_type": "execute_result"
    }
   ],
   "source": [
    "duplicated_rows = product_df.duplicated(keep=False)\n",
    "duplicated_rows_count = int(duplicated_rows.sum())\n",
    "duplicated_rows_count"
   ]
  },
  {
   "cell_type": "markdown",
   "id": "b22bee19",
   "metadata": {},
   "source": [
    "La verificación de duplicados en el dataframe product_df confirmó que no hay registros duplicados."
   ]
  },
  {
   "cell_type": "code",
   "execution_count": 39,
   "id": "fdf5c362",
   "metadata": {},
   "outputs": [
    {
     "name": "stdout",
     "output_type": "stream",
     "text": [
      "                 Column  Unique Values\n",
      "             stock_code             20\n",
      "                 weight              9\n",
      "            landed_cost             15\n",
      "shipping_cost_1000_mile              9\n",
      "            description             20\n",
      "               category              7\n"
     ]
    },
    {
     "data": {
      "image/png": "[encoded data removed]",
      "text/plain": [
       "<Figure size 500x500 with 1 Axes>"
      ]
     },
     "metadata": {},
     "output_type": "display_data"
    }
   ],
   "source": [
    "plots.uniqueness_barplot(df=product_df, columns=product_df_columns, df_name=\"Product\")"
   ]
  },
  {
   "cell_type": "markdown",
   "id": "a3b9ea67",
   "metadata": {},
   "source": [
    "El análisis de valores únicos confirma que las columnas stock_code y description tienen 20 valores únicos. Las columnas weight, landed_cost, shipping_cost_1000_mile y category tienen valores que se repiten, lo que las convierte en candidatas ideales para análisis de segmentación."
   ]
  },
  {
   "cell_type": "code",
   "execution_count": 40,
   "id": "5f77ae20",
   "metadata": {},
   "outputs": [
    {
     "data": {
      "text/plain": [
       "array(['22423', '85123A', '47566', '85099B', '23084', '22086', '84879',\n",
       "       '79321', '22502', '22197', '23298', '22386', '23203', '21137',\n",
       "       '22720', '23284', '22960', '82484', '20725', '22114'], dtype=object)"
      ]
     },
     "execution_count": 40,
     "metadata": {},
     "output_type": "execute_result"
    }
   ],
   "source": [
    "product_df[\"stock_code\"].unique()"
   ]
  },
  {
   "cell_type": "markdown",
   "id": "6ba5b120",
   "metadata": {},
   "source": [
    "La inspección de los valores únicos en la columna stock_code confirmó la inconsistencia previamente identificada. Se observan valores que terminan en letras, lo que requerirá una limpieza para estandarizar el formato de los códigos."
   ]
  },
  {
   "cell_type": "code",
   "execution_count": 41,
   "id": "aeb6bd41",
   "metadata": {},
   "outputs": [
    {
     "data": {
      "text/plain": [
       "array(['Food', 'Disposables', 'Pet Food', 'Cleanig Supplies',\n",
       "       'Supplements', 'Electronics', 'Grooming'], dtype=object)"
      ]
     },
     "execution_count": 41,
     "metadata": {},
     "output_type": "execute_result"
    }
   ],
   "source": [
    "product_df[\"category\"].unique()"
   ]
  },
  {
   "cell_type": "code",
   "execution_count": 42,
   "id": "bd82b926",
   "metadata": {},
   "outputs": [],
   "source": [
    "product_df[\"category\"] = product_df[\"category\"].str.replace(\"Cleanig\", \"Cleaning\")\n",
    "product_df[\"category\"] = product_df[\"category\"].astype(\"category\")"
   ]
  },
  {
   "cell_type": "code",
   "execution_count": 43,
   "id": "3747913c",
   "metadata": {},
   "outputs": [
    {
     "data": {
      "text/plain": [
       "array(['Taste of the Wild High Prairie Grain-Free Dry Dog Food 40lb',\n",
       "       'Dog and Puppy Pads',\n",
       "       'Memory Foam Pet Beds for Small, Medium, and Large Dogs and Cats',\n",
       "       'Earth Rated Dog Poop Bags', 'Templation Soft Cat Treats',\n",
       "       'Litter Slide Multi-Cat Scented Clumping Clay Cat Litter',\n",
       "       'Pet Odor Eliminator', 'ProBiotic Supplements for Dogs',\n",
       "       'Indoor Pet Camera', 'Sheba Perfect Portions Pat� Wet Cat Food',\n",
       "       'Purina ONE SmartBlend Natural Adult Chicken 10lb',\n",
       "       'Milk-Bone MaroSnacks Dog Treats with Real Bone',\n",
       "       'Pet Hair Remover', 'Canned Cat Food',\n",
       "       'UltraSound Dog Barking Deterrent',\n",
       "       'Purina Pro Plan Adult Sensitive Skin',\n",
       "       'Rechargeable Pet Nail Grinder', 'NexGard Chew for Dogs',\n",
       "       'Pet Grooming Brush',\n",
       "       'ChomChom Pet Hair Remover - Reusable Cat and Dog Hair Remover'],\n",
       "      dtype=object)"
      ]
     },
     "execution_count": 43,
     "metadata": {},
     "output_type": "execute_result"
    }
   ],
   "source": [
    "product_df[\"description\"].unique()"
   ]
  },
  {
   "cell_type": "code",
   "execution_count": 44,
   "id": "38e7e34e",
   "metadata": {},
   "outputs": [],
   "source": [
    "product_df[\"description\"] = product_df[\"description\"].str.replace(\"�\", \"\")\n",
    "product_df[\"description\"] = product_df[\"description\"].astype(\"category\")\n",
    "product_df.rename(columns={\"description\": \"product_description\"}, inplace=True)"
   ]
  },
  {
   "cell_type": "markdown",
   "id": "7337a756",
   "metadata": {},
   "source": [
    "La inspección de los valores únicos en las columnas category y description no reveló mayores inconsistencias. Dadas sus características de valores finitos y únicos por registro, se convirtieron a tipo de dato category y se renombró description a product_description para asegurar que los datos estén listos para un análisis eficiente."
   ]
  },
  {
   "cell_type": "code",
   "execution_count": 45,
   "id": "499c6eca",
   "metadata": {},
   "outputs": [
    {
     "data": {
      "text/plain": [
       "0"
      ]
     },
     "execution_count": 45,
     "metadata": {},
     "output_type": "execute_result"
    }
   ],
   "source": [
    "inconsistent_rows = product_df[\"shipping_cost_1000_mile\"] <= 0\n",
    "inconsistent_rows_count = int(inconsistent_rows.sum())\n",
    "inconsistent_rows_count"
   ]
  },
  {
   "cell_type": "code",
   "execution_count": 46,
   "id": "cfedb7fd",
   "metadata": {},
   "outputs": [
    {
     "data": {
      "text/plain": [
       "0"
      ]
     },
     "execution_count": 46,
     "metadata": {},
     "output_type": "execute_result"
    }
   ],
   "source": [
    "inconsistent_rows = product_df[\"landed_cost\"] <= 0\n",
    "inconsistent_rows_count = int(inconsistent_rows.sum())\n",
    "inconsistent_rows_count"
   ]
  },
  {
   "cell_type": "code",
   "execution_count": 47,
   "id": "b67498ff",
   "metadata": {},
   "outputs": [
    {
     "data": {
      "text/plain": [
       "0"
      ]
     },
     "execution_count": 47,
     "metadata": {},
     "output_type": "execute_result"
    }
   ],
   "source": [
    "inconsistent_rows = product_df[\"weight\"] <= 0\n",
    "inconsistent_rows_count = int(inconsistent_rows.sum())\n",
    "inconsistent_rows_count"
   ]
  },
  {
   "cell_type": "markdown",
   "id": "2a83cc3f",
   "metadata": {},
   "source": [
    "Se validaron las columnas numéricas shipping_cost_1000_mile, landed_cost y weight para detectar valores inconsistentes (valores iguales o menores a cero). La inspección confirmó que todas las columnas son consistentes y no tienen valores nulos, lo que significa que los datos están listos para ser utilizados en modelos o análisis de costos."
   ]
  },
  {
   "cell_type": "code",
   "execution_count": 48,
   "id": "9b55136b",
   "metadata": {},
   "outputs": [
    {
     "data": {
      "text/plain": [
       "2"
      ]
     },
     "execution_count": 48,
     "metadata": {},
     "output_type": "execute_result"
    }
   ],
   "source": [
    "inconsistent_rows = product_df[\"stock_code\"].str.isdigit() == False\n",
    "inconsistent_rows_count = int(inconsistent_rows.sum())\n",
    "inconsistent_rows_count"
   ]
  },
  {
   "cell_type": "code",
   "execution_count": 49,
   "id": "13e80b0a",
   "metadata": {},
   "outputs": [
    {
     "data": {
      "text/html": [
       "<div>\n",
       "<style scoped>\n",
       "    .dataframe tbody tr th:only-of-type {\n",
       "        vertical-align: middle;\n",
       "    }\n",
       "\n",
       "    .dataframe tbody tr th {\n",
       "        vertical-align: top;\n",
       "    }\n",
       "\n",
       "    .dataframe thead th {\n",
       "        text-align: right;\n",
       "    }\n",
       "</style>\n",
       "<table border=\"1\" class=\"dataframe\">\n",
       "  <thead>\n",
       "    <tr style=\"text-align: right;\">\n",
       "      <th></th>\n",
       "      <th>stock_code</th>\n",
       "      <th>weight</th>\n",
       "      <th>landed_cost</th>\n",
       "      <th>shipping_cost_1000_mile</th>\n",
       "      <th>product_description</th>\n",
       "      <th>category</th>\n",
       "    </tr>\n",
       "  </thead>\n",
       "  <tbody>\n",
       "    <tr>\n",
       "      <th>1</th>\n",
       "      <td>85123A</td>\n",
       "      <td>2.0</td>\n",
       "      <td>6.0</td>\n",
       "      <td>5.0</td>\n",
       "      <td>Dog and Puppy Pads</td>\n",
       "      <td>Disposables</td>\n",
       "    </tr>\n",
       "    <tr>\n",
       "      <th>3</th>\n",
       "      <td>85099B</td>\n",
       "      <td>2.0</td>\n",
       "      <td>5.0</td>\n",
       "      <td>4.0</td>\n",
       "      <td>Earth Rated Dog Poop Bags</td>\n",
       "      <td>Disposables</td>\n",
       "    </tr>\n",
       "  </tbody>\n",
       "</table>\n",
       "</div>"
      ],
      "text/plain": [
       "  stock_code  weight  landed_cost  shipping_cost_1000_mile  \\\n",
       "1     85123A     2.0          6.0                      5.0   \n",
       "3     85099B     2.0          5.0                      4.0   \n",
       "\n",
       "         product_description     category  \n",
       "1         Dog and Puppy Pads  Disposables  \n",
       "3  Earth Rated Dog Poop Bags  Disposables  "
      ]
     },
     "execution_count": 49,
     "metadata": {},
     "output_type": "execute_result"
    }
   ],
   "source": [
    "product_df[inconsistent_rows].head()"
   ]
  },
  {
   "cell_type": "code",
   "execution_count": 50,
   "id": "6b96de21",
   "metadata": {},
   "outputs": [
    {
     "data": {
      "text/html": [
       "<div>\n",
       "<style scoped>\n",
       "    .dataframe tbody tr th:only-of-type {\n",
       "        vertical-align: middle;\n",
       "    }\n",
       "\n",
       "    .dataframe tbody tr th {\n",
       "        vertical-align: top;\n",
       "    }\n",
       "\n",
       "    .dataframe thead th {\n",
       "        text-align: right;\n",
       "    }\n",
       "</style>\n",
       "<table border=\"1\" class=\"dataframe\">\n",
       "  <thead>\n",
       "    <tr style=\"text-align: right;\">\n",
       "      <th></th>\n",
       "      <th>stock_code</th>\n",
       "      <th>weight</th>\n",
       "      <th>landed_cost</th>\n",
       "      <th>shipping_cost_1000_mile</th>\n",
       "      <th>product_description</th>\n",
       "      <th>category</th>\n",
       "    </tr>\n",
       "  </thead>\n",
       "  <tbody>\n",
       "    <tr>\n",
       "      <th>1</th>\n",
       "      <td>85123</td>\n",
       "      <td>2.0</td>\n",
       "      <td>6.0</td>\n",
       "      <td>5.0</td>\n",
       "      <td>Dog and Puppy Pads</td>\n",
       "      <td>Disposables</td>\n",
       "    </tr>\n",
       "    <tr>\n",
       "      <th>3</th>\n",
       "      <td>85099</td>\n",
       "      <td>2.0</td>\n",
       "      <td>5.0</td>\n",
       "      <td>4.0</td>\n",
       "      <td>Earth Rated Dog Poop Bags</td>\n",
       "      <td>Disposables</td>\n",
       "    </tr>\n",
       "  </tbody>\n",
       "</table>\n",
       "</div>"
      ],
      "text/plain": [
       "  stock_code  weight  landed_cost  shipping_cost_1000_mile  \\\n",
       "1      85123     2.0          6.0                      5.0   \n",
       "3      85099     2.0          5.0                      4.0   \n",
       "\n",
       "         product_description     category  \n",
       "1         Dog and Puppy Pads  Disposables  \n",
       "3  Earth Rated Dog Poop Bags  Disposables  "
      ]
     },
     "execution_count": 50,
     "metadata": {},
     "output_type": "execute_result"
    }
   ],
   "source": [
    "product_df[\"stock_code\"] = product_df[\"stock_code\"].str.replace(r\"\\D\", \"\", regex=True)\n",
    "product_df[inconsistent_rows].head()"
   ]
  },
  {
   "cell_type": "code",
   "execution_count": 51,
   "id": "0840680a",
   "metadata": {},
   "outputs": [],
   "source": [
    "product_df[\"stock_code\"] = product_df[\"stock_code\"].astype(\"int\")"
   ]
  },
  {
   "cell_type": "markdown",
   "id": "1f47c788",
   "metadata": {},
   "source": [
    "Se identificaron y corrigieron los valores inconsistentes en la columna stock_code al eliminar las letras al final de los códigos. Esto aseguró la uniformidad de los datos, permitiendo que la columna se convirtiera al tipo de dato entero para futuras operaciones y análisis numéricos."
   ]
  },
  {
   "cell_type": "code",
   "execution_count": 52,
   "id": "6774b3ba",
   "metadata": {},
   "outputs": [
    {
     "data": {
      "text/plain": [
       "0"
      ]
     },
     "execution_count": 52,
     "metadata": {},
     "output_type": "execute_result"
    }
   ],
   "source": [
    "duplicated_rows = product_df.duplicated(keep=False)\n",
    "duplicated_rows_count = int(duplicated_rows.sum())\n",
    "duplicated_rows_count"
   ]
  },
  {
   "cell_type": "code",
   "execution_count": 53,
   "id": "47839bd9",
   "metadata": {},
   "outputs": [
    {
     "name": "stdout",
     "output_type": "stream",
     "text": [
      "<class 'pandas.core.frame.DataFrame'>\n",
      "RangeIndex: 20 entries, 0 to 19\n",
      "Data columns (total 6 columns):\n",
      " #   Column                   Non-Null Count  Dtype   \n",
      "---  ------                   --------------  -----   \n",
      " 0   stock_code               20 non-null     int64   \n",
      " 1   weight                   20 non-null     float64 \n",
      " 2   landed_cost              20 non-null     float64 \n",
      " 3   shipping_cost_1000_mile  20 non-null     float64 \n",
      " 4   product_description      20 non-null     category\n",
      " 5   category                 20 non-null     category\n",
      "dtypes: category(2), float64(3), int64(1)\n",
      "memory usage: 1.8 KB\n"
     ]
    }
   ],
   "source": [
    "product_df.info()"
   ]
  },
  {
   "cell_type": "markdown",
   "id": "c5dcfaea",
   "metadata": {},
   "source": [
    "El dataframe fue inspeccionado nuevamente tras la limpieza. Se confirmó que no se generaron duplicados y que la columna stock_code ahora es de tipo de dato int, lo que valida que el proceso de estandarización fue exitoso."
   ]
  },
  {
   "cell_type": "code",
   "execution_count": 54,
   "id": "58885266",
   "metadata": {},
   "outputs": [],
   "source": [
    "interim_data_path = data_interim_dir(\"product.csv\")\n",
    "product_df.to_csv(interim_data_path, index=False)"
   ]
  },
  {
   "cell_type": "markdown",
   "id": "7205a3a5",
   "metadata": {},
   "source": [
    "#### **Sale Table Preparation**"
   ]
  },
  {
   "cell_type": "code",
   "execution_count": 55,
   "id": "62647a8e",
   "metadata": {},
   "outputs": [
    {
     "data": {
      "text/html": [
       "<div>\n",
       "<style scoped>\n",
       "    .dataframe tbody tr th:only-of-type {\n",
       "        vertical-align: middle;\n",
       "    }\n",
       "\n",
       "    .dataframe tbody tr th {\n",
       "        vertical-align: top;\n",
       "    }\n",
       "\n",
       "    .dataframe thead th {\n",
       "        text-align: right;\n",
       "    }\n",
       "</style>\n",
       "<table border=\"1\" class=\"dataframe\">\n",
       "  <thead>\n",
       "    <tr style=\"text-align: right;\">\n",
       "      <th></th>\n",
       "      <th>transaction_date</th>\n",
       "      <th>customer_id</th>\n",
       "      <th>description</th>\n",
       "      <th>stock_code</th>\n",
       "      <th>invoice_no</th>\n",
       "      <th>quantity</th>\n",
       "      <th>sale</th>\n",
       "      <th>unit_price</th>\n",
       "    </tr>\n",
       "  </thead>\n",
       "  <tbody>\n",
       "    <tr>\n",
       "      <th>0</th>\n",
       "      <td>12/1/2020 8:26</td>\n",
       "      <td>17850.0</td>\n",
       "      <td>Dog and Puppy Pads</td>\n",
       "      <td>85123A</td>\n",
       "      <td>536365.0</td>\n",
       "      <td>1</td>\n",
       "      <td>15.30</td>\n",
       "      <td>15.30</td>\n",
       "    </tr>\n",
       "    <tr>\n",
       "      <th>1</th>\n",
       "      <td>12/1/2020 8:34</td>\n",
       "      <td>13047.0</td>\n",
       "      <td>Pet Odor Eliminator</td>\n",
       "      <td>84879</td>\n",
       "      <td>536367.0</td>\n",
       "      <td>6</td>\n",
       "      <td>60.84</td>\n",
       "      <td>10.14</td>\n",
       "    </tr>\n",
       "    <tr>\n",
       "      <th>2</th>\n",
       "      <td>12/1/2020 8:34</td>\n",
       "      <td>13047.0</td>\n",
       "      <td>Rechargeable Pet Nail Grinder</td>\n",
       "      <td>22960</td>\n",
       "      <td>536368.0</td>\n",
       "      <td>1</td>\n",
       "      <td>25.50</td>\n",
       "      <td>25.50</td>\n",
       "    </tr>\n",
       "    <tr>\n",
       "      <th>3</th>\n",
       "      <td>12/1/2020 9:00</td>\n",
       "      <td>13748.0</td>\n",
       "      <td>Litter Slide Multi-Cat Scented Clumping Clay C...</td>\n",
       "      <td>22086</td>\n",
       "      <td>536371.0</td>\n",
       "      <td>14</td>\n",
       "      <td>214.20</td>\n",
       "      <td>15.30</td>\n",
       "    </tr>\n",
       "    <tr>\n",
       "      <th>4</th>\n",
       "      <td>12/1/2020 9:02</td>\n",
       "      <td>17850.0</td>\n",
       "      <td>Dog and Puppy Pads</td>\n",
       "      <td>85123A</td>\n",
       "      <td>536373.0</td>\n",
       "      <td>1</td>\n",
       "      <td>15.30</td>\n",
       "      <td>15.30</td>\n",
       "    </tr>\n",
       "  </tbody>\n",
       "</table>\n",
       "</div>"
      ],
      "text/plain": [
       "  transaction_date  customer_id  \\\n",
       "0   12/1/2020 8:26      17850.0   \n",
       "1   12/1/2020 8:34      13047.0   \n",
       "2   12/1/2020 8:34      13047.0   \n",
       "3   12/1/2020 9:00      13748.0   \n",
       "4   12/1/2020 9:02      17850.0   \n",
       "\n",
       "                                         description stock_code  invoice_no  \\\n",
       "0                                 Dog and Puppy Pads     85123A    536365.0   \n",
       "1                                Pet Odor Eliminator      84879    536367.0   \n",
       "2                      Rechargeable Pet Nail Grinder      22960    536368.0   \n",
       "3  Litter Slide Multi-Cat Scented Clumping Clay C...      22086    536371.0   \n",
       "4                                 Dog and Puppy Pads     85123A    536373.0   \n",
       "\n",
       "   quantity    sale  unit_price  \n",
       "0         1   15.30       15.30  \n",
       "1         6   60.84       10.14  \n",
       "2         1   25.50       25.50  \n",
       "3        14  214.20       15.30  \n",
       "4         1   15.30       15.30  "
      ]
     },
     "execution_count": 55,
     "metadata": {},
     "output_type": "execute_result"
    }
   ],
   "source": [
    "raw_data_path = data_raw_dir(\"sale.csv\")\n",
    "sale_df = pd.read_csv(raw_data_path, encoding=\"utf-8\")\n",
    "sale_df.head()"
   ]
  },
  {
   "cell_type": "markdown",
   "id": "2a80023d",
   "metadata": {},
   "source": [
    "La carga del archivo sale.csv crea el dataframe sale_df. La inspección visual del encabezado reveló una inconsistencia en la columna stock_code, ya que algunos valores terminan en letras. Esto indica la necesidad de estandarizar el formato de los datos."
   ]
  },
  {
   "cell_type": "code",
   "execution_count": 56,
   "id": "544a3562",
   "metadata": {},
   "outputs": [
    {
     "name": "stdout",
     "output_type": "stream",
     "text": [
      "<class 'pandas.core.frame.DataFrame'>\n",
      "RangeIndex: 25065 entries, 0 to 25064\n",
      "Data columns (total 8 columns):\n",
      " #   Column            Non-Null Count  Dtype  \n",
      "---  ------            --------------  -----  \n",
      " 0   transaction_date  25065 non-null  object \n",
      " 1   customer_id       20649 non-null  float64\n",
      " 2   description       25065 non-null  object \n",
      " 3   stock_code        25065 non-null  object \n",
      " 4   invoice_no        24404 non-null  float64\n",
      " 5   quantity          25065 non-null  int64  \n",
      " 6   sale              25065 non-null  float64\n",
      " 7   unit_price        25065 non-null  float64\n",
      "dtypes: float64(4), int64(1), object(3)\n",
      "memory usage: 1.5+ MB\n"
     ]
    }
   ],
   "source": [
    "sale_df.info()"
   ]
  },
  {
   "cell_type": "markdown",
   "id": "490e5f3c",
   "metadata": {},
   "source": [
    "La inspección inicial del dataframe sale_df reveló la presencia de valores nulos y tipos de datos inconsistentes. En particular, las columnas customer_id y invoice_no contienen valores faltantes, lo que requiere una limpieza profunda para su posterior uso en análisis."
   ]
  },
  {
   "cell_type": "code",
   "execution_count": 57,
   "id": "f3551a44",
   "metadata": {},
   "outputs": [
    {
     "name": "stdout",
     "output_type": "stream",
     "text": [
      "          Column  Complete Values  Complete Data  Missing Values  Missing Data\n",
      "transaction_date            25065           1.00               0          0.00\n",
      "     customer_id            20649           0.82            4416          0.18\n",
      "     description            25065           1.00               0          0.00\n",
      "      stock_code            25065           1.00               0          0.00\n",
      "      invoice_no            24404           0.97             661          0.03\n",
      "        quantity            25065           1.00               0          0.00\n",
      "            sale            25065           1.00               0          0.00\n",
      "      unit_price            25065           1.00               0          0.00\n"
     ]
    },
    {
     "data": {
      "image/png": "[encoded data removed]",
      "text/plain": [
       "<Figure size 654.875x500 with 1 Axes>"
      ]
     },
     "metadata": {},
     "output_type": "display_data"
    }
   ],
   "source": [
    "sale_df_columns = list(sale_df.columns)\n",
    "plots.completeness_barplot(df=sale_df, columns=sale_df_columns, df_name=\"Sale\")"
   ]
  },
  {
   "cell_type": "markdown",
   "id": "e3e7e408",
   "metadata": {},
   "source": [
    "El gráfico de barras de completitud confirma visualmente la presencia de valores nulos en las columnas customer_id (18% de datos faltantes) e invoice_no (3% de datos faltantes), lo que valida los hallazgos de la inspección inicial."
   ]
  },
  {
   "cell_type": "code",
   "execution_count": 58,
   "id": "4b4f5d14",
   "metadata": {},
   "outputs": [
    {
     "data": {
      "text/plain": [
       "0"
      ]
     },
     "execution_count": 58,
     "metadata": {},
     "output_type": "execute_result"
    }
   ],
   "source": [
    "duplicated_rows = sale_df.duplicated(keep=False)\n",
    "duplicated_rows_count = int(duplicated_rows.sum())\n",
    "duplicated_rows_count"
   ]
  },
  {
   "cell_type": "markdown",
   "id": "ac061229",
   "metadata": {},
   "source": [
    "La verificación de duplicados en el dataframe sale_df confirmó que no hay registros duplicados."
   ]
  },
  {
   "cell_type": "code",
   "execution_count": 59,
   "id": "5f123b12",
   "metadata": {},
   "outputs": [
    {
     "name": "stdout",
     "output_type": "stream",
     "text": [
      "          Column  Unique Values\n",
      "transaction_date          11408\n",
      "     customer_id           3146\n",
      "     description             21\n",
      "      stock_code             20\n",
      "      invoice_no          11427\n",
      "        quantity            108\n",
      "            sale            610\n",
      "      unit_price            101\n"
     ]
    },
    {
     "data": {
      "image/png": "[encoded data removed]",
      "text/plain": [
       "<Figure size 500x500 with 1 Axes>"
      ]
     },
     "metadata": {},
     "output_type": "display_data"
    }
   ],
   "source": [
    "plots.uniqueness_barplot(df=sale_df, columns=sale_df_columns, df_name=\"Sale\")"
   ]
  },
  {
   "cell_type": "markdown",
   "id": "a4980437",
   "metadata": {},
   "source": [
    "El gráfico de valores únicos confirma que las columnas invoice_no y transaction_date tienen la mayor cantidad de valores únicos, mientras que sale, quantity, unit_price, description y stock_code tienen un número considerablemente menor."
   ]
  },
  {
   "cell_type": "code",
   "execution_count": 60,
   "id": "088147f8",
   "metadata": {},
   "outputs": [
    {
     "data": {
      "text/plain": [
       "63"
      ]
     },
     "execution_count": 60,
     "metadata": {},
     "output_type": "execute_result"
    }
   ],
   "source": [
    "inconsistent_rows  = sale_df[\"unit_price\"] <= 0\n",
    "inconsistent_rows_count = int(inconsistent_rows.sum())\n",
    "inconsistent_rows_count"
   ]
  },
  {
   "cell_type": "code",
   "execution_count": 61,
   "id": "bc8da620",
   "metadata": {},
   "outputs": [
    {
     "data": {
      "text/html": [
       "<div>\n",
       "<style scoped>\n",
       "    .dataframe tbody tr th:only-of-type {\n",
       "        vertical-align: middle;\n",
       "    }\n",
       "\n",
       "    .dataframe tbody tr th {\n",
       "        vertical-align: top;\n",
       "    }\n",
       "\n",
       "    .dataframe thead th {\n",
       "        text-align: right;\n",
       "    }\n",
       "</style>\n",
       "<table border=\"1\" class=\"dataframe\">\n",
       "  <thead>\n",
       "    <tr style=\"text-align: right;\">\n",
       "      <th></th>\n",
       "      <th>transaction_date</th>\n",
       "      <th>customer_id</th>\n",
       "      <th>description</th>\n",
       "      <th>stock_code</th>\n",
       "      <th>invoice_no</th>\n",
       "      <th>quantity</th>\n",
       "      <th>sale</th>\n",
       "      <th>unit_price</th>\n",
       "    </tr>\n",
       "  </thead>\n",
       "  <tbody>\n",
       "    <tr>\n",
       "      <th>538</th>\n",
       "      <td>12/7/2020 11:48</td>\n",
       "      <td>NaN</td>\n",
       "      <td>Indoor Pet Camera (Wi-Fi)</td>\n",
       "      <td>22502</td>\n",
       "      <td>537534.0</td>\n",
       "      <td>5</td>\n",
       "      <td>0.0</td>\n",
       "      <td>0.0</td>\n",
       "    </tr>\n",
       "    <tr>\n",
       "      <th>762</th>\n",
       "      <td>12/9/2020 12:11</td>\n",
       "      <td>NaN</td>\n",
       "      <td>ChomChom Pet Hair Remover - Reusable Cat and D...</td>\n",
       "      <td>22114</td>\n",
       "      <td>538004.0</td>\n",
       "      <td>24</td>\n",
       "      <td>0.0</td>\n",
       "      <td>0.0</td>\n",
       "    </tr>\n",
       "    <tr>\n",
       "      <th>796</th>\n",
       "      <td>12/9/2020 14:10</td>\n",
       "      <td>NaN</td>\n",
       "      <td>Taste of the Wild High Prairie Grain-Free Dry ...</td>\n",
       "      <td>22423</td>\n",
       "      <td>538072.0</td>\n",
       "      <td>-2</td>\n",
       "      <td>0.0</td>\n",
       "      <td>0.0</td>\n",
       "    </tr>\n",
       "    <tr>\n",
       "      <th>1538</th>\n",
       "      <td>12/21/2020 13:45</td>\n",
       "      <td>14911.0</td>\n",
       "      <td>Taste of the Wild High Prairie Grain-Free Dry ...</td>\n",
       "      <td>22423</td>\n",
       "      <td>539722.0</td>\n",
       "      <td>2</td>\n",
       "      <td>0.0</td>\n",
       "      <td>0.0</td>\n",
       "    </tr>\n",
       "    <tr>\n",
       "      <th>1573</th>\n",
       "      <td>12/21/2020 15:40</td>\n",
       "      <td>NaN</td>\n",
       "      <td>ChomChom Pet Hair Remover - Reusable Cat and D...</td>\n",
       "      <td>22114</td>\n",
       "      <td>539750.0</td>\n",
       "      <td>1</td>\n",
       "      <td>0.0</td>\n",
       "      <td>0.0</td>\n",
       "    </tr>\n",
       "  </tbody>\n",
       "</table>\n",
       "</div>"
      ],
      "text/plain": [
       "      transaction_date  customer_id  \\\n",
       "538    12/7/2020 11:48          NaN   \n",
       "762    12/9/2020 12:11          NaN   \n",
       "796    12/9/2020 14:10          NaN   \n",
       "1538  12/21/2020 13:45      14911.0   \n",
       "1573  12/21/2020 15:40          NaN   \n",
       "\n",
       "                                            description stock_code  \\\n",
       "538                           Indoor Pet Camera (Wi-Fi)      22502   \n",
       "762   ChomChom Pet Hair Remover - Reusable Cat and D...      22114   \n",
       "796   Taste of the Wild High Prairie Grain-Free Dry ...      22423   \n",
       "1538  Taste of the Wild High Prairie Grain-Free Dry ...      22423   \n",
       "1573  ChomChom Pet Hair Remover - Reusable Cat and D...      22114   \n",
       "\n",
       "      invoice_no  quantity  sale  unit_price  \n",
       "538     537534.0         5   0.0         0.0  \n",
       "762     538004.0        24   0.0         0.0  \n",
       "796     538072.0        -2   0.0         0.0  \n",
       "1538    539722.0         2   0.0         0.0  \n",
       "1573    539750.0         1   0.0         0.0  "
      ]
     },
     "execution_count": 61,
     "metadata": {},
     "output_type": "execute_result"
    }
   ],
   "source": [
    "sale_df[inconsistent_rows].head()"
   ]
  },
  {
   "cell_type": "code",
   "execution_count": 62,
   "id": "b6c27154",
   "metadata": {},
   "outputs": [
    {
     "data": {
      "text/plain": [
       "724"
      ]
     },
     "execution_count": 62,
     "metadata": {},
     "output_type": "execute_result"
    }
   ],
   "source": [
    "inconsistent_rows  = sale_df[\"sale\"] <= 0\n",
    "inconsistent_rows_count = int(inconsistent_rows.sum())\n",
    "inconsistent_rows_count"
   ]
  },
  {
   "cell_type": "code",
   "execution_count": 63,
   "id": "14d04404",
   "metadata": {},
   "outputs": [
    {
     "data": {
      "text/html": [
       "<div>\n",
       "<style scoped>\n",
       "    .dataframe tbody tr th:only-of-type {\n",
       "        vertical-align: middle;\n",
       "    }\n",
       "\n",
       "    .dataframe tbody tr th {\n",
       "        vertical-align: top;\n",
       "    }\n",
       "\n",
       "    .dataframe thead th {\n",
       "        text-align: right;\n",
       "    }\n",
       "</style>\n",
       "<table border=\"1\" class=\"dataframe\">\n",
       "  <thead>\n",
       "    <tr style=\"text-align: right;\">\n",
       "      <th></th>\n",
       "      <th>transaction_date</th>\n",
       "      <th>customer_id</th>\n",
       "      <th>description</th>\n",
       "      <th>stock_code</th>\n",
       "      <th>invoice_no</th>\n",
       "      <th>quantity</th>\n",
       "      <th>sale</th>\n",
       "      <th>unit_price</th>\n",
       "    </tr>\n",
       "  </thead>\n",
       "  <tbody>\n",
       "    <tr>\n",
       "      <th>54</th>\n",
       "      <td>12/1/2020 12:38</td>\n",
       "      <td>17897.0</td>\n",
       "      <td>Rechargeable Pet Nail Grinder</td>\n",
       "      <td>22960</td>\n",
       "      <td>NaN</td>\n",
       "      <td>-1</td>\n",
       "      <td>-25.5</td>\n",
       "      <td>25.5</td>\n",
       "    </tr>\n",
       "    <tr>\n",
       "      <th>195</th>\n",
       "      <td>12/2/2020 17:27</td>\n",
       "      <td>15384.0</td>\n",
       "      <td>Sheba Perfect Portions Pat Wet Cat Food</td>\n",
       "      <td>22197</td>\n",
       "      <td>NaN</td>\n",
       "      <td>0</td>\n",
       "      <td>0.0</td>\n",
       "      <td>5.1</td>\n",
       "    </tr>\n",
       "    <tr>\n",
       "      <th>448</th>\n",
       "      <td>12/6/2020 12:55</td>\n",
       "      <td>14487.0</td>\n",
       "      <td>Taste of the Wild High Prairie Grain-Free Dry ...</td>\n",
       "      <td>22423</td>\n",
       "      <td>NaN</td>\n",
       "      <td>0</td>\n",
       "      <td>0.0</td>\n",
       "      <td>76.5</td>\n",
       "    </tr>\n",
       "    <tr>\n",
       "      <th>454</th>\n",
       "      <td>12/6/2020 13:17</td>\n",
       "      <td>16550.0</td>\n",
       "      <td>Sheba Perfect Portions Pat Wet Cat Food</td>\n",
       "      <td>22197</td>\n",
       "      <td>NaN</td>\n",
       "      <td>0</td>\n",
       "      <td>0.0</td>\n",
       "      <td>5.1</td>\n",
       "    </tr>\n",
       "    <tr>\n",
       "      <th>491</th>\n",
       "      <td>12/6/2020 15:09</td>\n",
       "      <td>16861.0</td>\n",
       "      <td>Litter Slide Multi-Cat Scented Clumping Clay C...</td>\n",
       "      <td>22086</td>\n",
       "      <td>NaN</td>\n",
       "      <td>-1</td>\n",
       "      <td>-17.7</td>\n",
       "      <td>17.7</td>\n",
       "    </tr>\n",
       "  </tbody>\n",
       "</table>\n",
       "</div>"
      ],
      "text/plain": [
       "    transaction_date  customer_id  \\\n",
       "54   12/1/2020 12:38      17897.0   \n",
       "195  12/2/2020 17:27      15384.0   \n",
       "448  12/6/2020 12:55      14487.0   \n",
       "454  12/6/2020 13:17      16550.0   \n",
       "491  12/6/2020 15:09      16861.0   \n",
       "\n",
       "                                           description stock_code  invoice_no  \\\n",
       "54                       Rechargeable Pet Nail Grinder      22960         NaN   \n",
       "195            Sheba Perfect Portions Pat Wet Cat Food      22197         NaN   \n",
       "448  Taste of the Wild High Prairie Grain-Free Dry ...      22423         NaN   \n",
       "454            Sheba Perfect Portions Pat Wet Cat Food      22197         NaN   \n",
       "491  Litter Slide Multi-Cat Scented Clumping Clay C...      22086         NaN   \n",
       "\n",
       "     quantity  sale  unit_price  \n",
       "54         -1 -25.5        25.5  \n",
       "195         0   0.0         5.1  \n",
       "448         0   0.0        76.5  \n",
       "454         0   0.0         5.1  \n",
       "491        -1 -17.7        17.7  "
      ]
     },
     "execution_count": 63,
     "metadata": {},
     "output_type": "execute_result"
    }
   ],
   "source": [
    "sale_df[inconsistent_rows].head()"
   ]
  },
  {
   "cell_type": "code",
   "execution_count": 64,
   "id": "fed0e725",
   "metadata": {},
   "outputs": [
    {
     "data": {
      "text/plain": [
       "677"
      ]
     },
     "execution_count": 64,
     "metadata": {},
     "output_type": "execute_result"
    }
   ],
   "source": [
    "inconsistent_rows  = sale_df[\"quantity\"] <= 0\n",
    "inconsistent_rows_count = int(inconsistent_rows.sum())\n",
    "inconsistent_rows_count"
   ]
  },
  {
   "cell_type": "code",
   "execution_count": 65,
   "id": "762fbcac",
   "metadata": {},
   "outputs": [
    {
     "data": {
      "text/html": [
       "<div>\n",
       "<style scoped>\n",
       "    .dataframe tbody tr th:only-of-type {\n",
       "        vertical-align: middle;\n",
       "    }\n",
       "\n",
       "    .dataframe tbody tr th {\n",
       "        vertical-align: top;\n",
       "    }\n",
       "\n",
       "    .dataframe thead th {\n",
       "        text-align: right;\n",
       "    }\n",
       "</style>\n",
       "<table border=\"1\" class=\"dataframe\">\n",
       "  <thead>\n",
       "    <tr style=\"text-align: right;\">\n",
       "      <th></th>\n",
       "      <th>transaction_date</th>\n",
       "      <th>customer_id</th>\n",
       "      <th>description</th>\n",
       "      <th>stock_code</th>\n",
       "      <th>invoice_no</th>\n",
       "      <th>quantity</th>\n",
       "      <th>sale</th>\n",
       "      <th>unit_price</th>\n",
       "    </tr>\n",
       "  </thead>\n",
       "  <tbody>\n",
       "    <tr>\n",
       "      <th>54</th>\n",
       "      <td>12/1/2020 12:38</td>\n",
       "      <td>17897.0</td>\n",
       "      <td>Rechargeable Pet Nail Grinder</td>\n",
       "      <td>22960</td>\n",
       "      <td>NaN</td>\n",
       "      <td>-1</td>\n",
       "      <td>-25.5</td>\n",
       "      <td>25.5</td>\n",
       "    </tr>\n",
       "    <tr>\n",
       "      <th>195</th>\n",
       "      <td>12/2/2020 17:27</td>\n",
       "      <td>15384.0</td>\n",
       "      <td>Sheba Perfect Portions Pat Wet Cat Food</td>\n",
       "      <td>22197</td>\n",
       "      <td>NaN</td>\n",
       "      <td>0</td>\n",
       "      <td>0.0</td>\n",
       "      <td>5.1</td>\n",
       "    </tr>\n",
       "    <tr>\n",
       "      <th>448</th>\n",
       "      <td>12/6/2020 12:55</td>\n",
       "      <td>14487.0</td>\n",
       "      <td>Taste of the Wild High Prairie Grain-Free Dry ...</td>\n",
       "      <td>22423</td>\n",
       "      <td>NaN</td>\n",
       "      <td>0</td>\n",
       "      <td>0.0</td>\n",
       "      <td>76.5</td>\n",
       "    </tr>\n",
       "    <tr>\n",
       "      <th>454</th>\n",
       "      <td>12/6/2020 13:17</td>\n",
       "      <td>16550.0</td>\n",
       "      <td>Sheba Perfect Portions Pat Wet Cat Food</td>\n",
       "      <td>22197</td>\n",
       "      <td>NaN</td>\n",
       "      <td>0</td>\n",
       "      <td>0.0</td>\n",
       "      <td>5.1</td>\n",
       "    </tr>\n",
       "    <tr>\n",
       "      <th>491</th>\n",
       "      <td>12/6/2020 15:09</td>\n",
       "      <td>16861.0</td>\n",
       "      <td>Litter Slide Multi-Cat Scented Clumping Clay C...</td>\n",
       "      <td>22086</td>\n",
       "      <td>NaN</td>\n",
       "      <td>-1</td>\n",
       "      <td>-17.7</td>\n",
       "      <td>17.7</td>\n",
       "    </tr>\n",
       "  </tbody>\n",
       "</table>\n",
       "</div>"
      ],
      "text/plain": [
       "    transaction_date  customer_id  \\\n",
       "54   12/1/2020 12:38      17897.0   \n",
       "195  12/2/2020 17:27      15384.0   \n",
       "448  12/6/2020 12:55      14487.0   \n",
       "454  12/6/2020 13:17      16550.0   \n",
       "491  12/6/2020 15:09      16861.0   \n",
       "\n",
       "                                           description stock_code  invoice_no  \\\n",
       "54                       Rechargeable Pet Nail Grinder      22960         NaN   \n",
       "195            Sheba Perfect Portions Pat Wet Cat Food      22197         NaN   \n",
       "448  Taste of the Wild High Prairie Grain-Free Dry ...      22423         NaN   \n",
       "454            Sheba Perfect Portions Pat Wet Cat Food      22197         NaN   \n",
       "491  Litter Slide Multi-Cat Scented Clumping Clay C...      22086         NaN   \n",
       "\n",
       "     quantity  sale  unit_price  \n",
       "54         -1 -25.5        25.5  \n",
       "195         0   0.0         5.1  \n",
       "448         0   0.0        76.5  \n",
       "454         0   0.0         5.1  \n",
       "491        -1 -17.7        17.7  "
      ]
     },
     "execution_count": 65,
     "metadata": {},
     "output_type": "execute_result"
    }
   ],
   "source": [
    "sale_df[inconsistent_rows].head()"
   ]
  },
  {
   "cell_type": "markdown",
   "id": "69b21a52",
   "metadata": {},
   "source": [
    "Se encontraron valores inconsistentes en el dataframe sale_df. Un total de 63 registros en la columna unit_price, 724 registros en sale y 677 registros en quantity tienen valores iguales o menores a cero, lo que requiere una limpieza profunda para asegurar la integridad de la información."
   ]
  },
  {
   "cell_type": "code",
   "execution_count": 66,
   "id": "9d5e91f8",
   "metadata": {},
   "outputs": [
    {
     "data": {
      "text/plain": [
       "1913"
      ]
     },
     "execution_count": 66,
     "metadata": {},
     "output_type": "execute_result"
    }
   ],
   "source": [
    "inconsistent_rows = inconsistent_rows = (((sale_df[\"unit_price\"] * sale_df[\"quantity\"]) != sale_df[\"sale\"]) | (sale_df[\"quantity\"] <= 0) | (sale_df[\"sale\"] <= 0) | (sale_df[\"unit_price\"] <= 0))\n",
    "inconsistent_rows_count = int(inconsistent_rows.sum())\n",
    "inconsistent_rows_count"
   ]
  },
  {
   "cell_type": "code",
   "execution_count": 67,
   "id": "1b2da1c6",
   "metadata": {},
   "outputs": [
    {
     "data": {
      "text/html": [
       "<div>\n",
       "<style scoped>\n",
       "    .dataframe tbody tr th:only-of-type {\n",
       "        vertical-align: middle;\n",
       "    }\n",
       "\n",
       "    .dataframe tbody tr th {\n",
       "        vertical-align: top;\n",
       "    }\n",
       "\n",
       "    .dataframe thead th {\n",
       "        text-align: right;\n",
       "    }\n",
       "</style>\n",
       "<table border=\"1\" class=\"dataframe\">\n",
       "  <thead>\n",
       "    <tr style=\"text-align: right;\">\n",
       "      <th></th>\n",
       "      <th>transaction_date</th>\n",
       "      <th>customer_id</th>\n",
       "      <th>description</th>\n",
       "      <th>stock_code</th>\n",
       "      <th>invoice_no</th>\n",
       "      <th>quantity</th>\n",
       "      <th>sale</th>\n",
       "      <th>unit_price</th>\n",
       "    </tr>\n",
       "  </thead>\n",
       "  <tbody>\n",
       "    <tr>\n",
       "      <th>0</th>\n",
       "      <td>12/1/2020 8:26</td>\n",
       "      <td>17850.0</td>\n",
       "      <td>Dog and Puppy Pads</td>\n",
       "      <td>85123A</td>\n",
       "      <td>536365.0</td>\n",
       "      <td>1</td>\n",
       "      <td>15.30</td>\n",
       "      <td>15.30</td>\n",
       "    </tr>\n",
       "    <tr>\n",
       "      <th>1</th>\n",
       "      <td>12/1/2020 8:34</td>\n",
       "      <td>13047.0</td>\n",
       "      <td>Pet Odor Eliminator</td>\n",
       "      <td>84879</td>\n",
       "      <td>536367.0</td>\n",
       "      <td>6</td>\n",
       "      <td>60.84</td>\n",
       "      <td>10.14</td>\n",
       "    </tr>\n",
       "    <tr>\n",
       "      <th>2</th>\n",
       "      <td>12/1/2020 8:34</td>\n",
       "      <td>13047.0</td>\n",
       "      <td>Rechargeable Pet Nail Grinder</td>\n",
       "      <td>22960</td>\n",
       "      <td>536368.0</td>\n",
       "      <td>1</td>\n",
       "      <td>25.50</td>\n",
       "      <td>25.50</td>\n",
       "    </tr>\n",
       "    <tr>\n",
       "      <th>4</th>\n",
       "      <td>12/1/2020 9:02</td>\n",
       "      <td>17850.0</td>\n",
       "      <td>Dog and Puppy Pads</td>\n",
       "      <td>85123A</td>\n",
       "      <td>536373.0</td>\n",
       "      <td>1</td>\n",
       "      <td>15.30</td>\n",
       "      <td>15.30</td>\n",
       "    </tr>\n",
       "    <tr>\n",
       "      <th>5</th>\n",
       "      <td>12/1/2020 9:32</td>\n",
       "      <td>15291.0</td>\n",
       "      <td>ChomChom Pet Hair Remover - Reusable Cat and D...</td>\n",
       "      <td>22114</td>\n",
       "      <td>536376.0</td>\n",
       "      <td>8</td>\n",
       "      <td>165.60</td>\n",
       "      <td>20.70</td>\n",
       "    </tr>\n",
       "  </tbody>\n",
       "</table>\n",
       "</div>"
      ],
      "text/plain": [
       "  transaction_date  customer_id  \\\n",
       "0   12/1/2020 8:26      17850.0   \n",
       "1   12/1/2020 8:34      13047.0   \n",
       "2   12/1/2020 8:34      13047.0   \n",
       "4   12/1/2020 9:02      17850.0   \n",
       "5   12/1/2020 9:32      15291.0   \n",
       "\n",
       "                                         description stock_code  invoice_no  \\\n",
       "0                                 Dog and Puppy Pads     85123A    536365.0   \n",
       "1                                Pet Odor Eliminator      84879    536367.0   \n",
       "2                      Rechargeable Pet Nail Grinder      22960    536368.0   \n",
       "4                                 Dog and Puppy Pads     85123A    536373.0   \n",
       "5  ChomChom Pet Hair Remover - Reusable Cat and D...      22114    536376.0   \n",
       "\n",
       "   quantity    sale  unit_price  \n",
       "0         1   15.30       15.30  \n",
       "1         6   60.84       10.14  \n",
       "2         1   25.50       25.50  \n",
       "4         1   15.30       15.30  \n",
       "5         8  165.60       20.70  "
      ]
     },
     "execution_count": 67,
     "metadata": {},
     "output_type": "execute_result"
    }
   ],
   "source": [
    "consistent_rows = ~inconsistent_rows\n",
    "sale_df = sale_df[consistent_rows]\n",
    "sale_df.head()"
   ]
  },
  {
   "cell_type": "code",
   "execution_count": 68,
   "id": "1225b2fe",
   "metadata": {},
   "outputs": [],
   "source": [
    "sale_df[\"invoice_no\"] = sale_df[\"invoice_no\"].fillna(-1).astype(\"int\")"
   ]
  },
  {
   "cell_type": "markdown",
   "id": "407ce792",
   "metadata": {},
   "source": [
    "Dado que la columna invoice_no carece de una lógica para imputar los valores faltantes, se optó por una estrategia de etiquetado. Los valores nulos se reemplazaron con -1, lo que permite identificarlos fácilmente como registros sin número de factura y, al mismo tiempo, convierte la columna a un tipo de dato entero (int) para su análisis."
   ]
  },
  {
   "cell_type": "code",
   "execution_count": 69,
   "id": "a7ce8409",
   "metadata": {},
   "outputs": [
    {
     "data": {
      "text/plain": [
       "4011"
      ]
     },
     "execution_count": 69,
     "metadata": {},
     "output_type": "execute_result"
    }
   ],
   "source": [
    "inconsistent_rows = sale_df[\"stock_code\"].str.isdigit() == False\n",
    "inconsistent_rows_count = int(inconsistent_rows.sum())\n",
    "inconsistent_rows_count"
   ]
  },
  {
   "cell_type": "code",
   "execution_count": 70,
   "id": "fde9199c",
   "metadata": {},
   "outputs": [
    {
     "data": {
      "text/html": [
       "<div>\n",
       "<style scoped>\n",
       "    .dataframe tbody tr th:only-of-type {\n",
       "        vertical-align: middle;\n",
       "    }\n",
       "\n",
       "    .dataframe tbody tr th {\n",
       "        vertical-align: top;\n",
       "    }\n",
       "\n",
       "    .dataframe thead th {\n",
       "        text-align: right;\n",
       "    }\n",
       "</style>\n",
       "<table border=\"1\" class=\"dataframe\">\n",
       "  <thead>\n",
       "    <tr style=\"text-align: right;\">\n",
       "      <th></th>\n",
       "      <th>transaction_date</th>\n",
       "      <th>customer_id</th>\n",
       "      <th>description</th>\n",
       "      <th>stock_code</th>\n",
       "      <th>invoice_no</th>\n",
       "      <th>quantity</th>\n",
       "      <th>sale</th>\n",
       "      <th>unit_price</th>\n",
       "    </tr>\n",
       "  </thead>\n",
       "  <tbody>\n",
       "    <tr>\n",
       "      <th>0</th>\n",
       "      <td>12/1/2020 8:26</td>\n",
       "      <td>17850.0</td>\n",
       "      <td>Dog and Puppy Pads</td>\n",
       "      <td>85123A</td>\n",
       "      <td>536365</td>\n",
       "      <td>1</td>\n",
       "      <td>15.3</td>\n",
       "      <td>15.3</td>\n",
       "    </tr>\n",
       "    <tr>\n",
       "      <th>4</th>\n",
       "      <td>12/1/2020 9:02</td>\n",
       "      <td>17850.0</td>\n",
       "      <td>Dog and Puppy Pads</td>\n",
       "      <td>85123A</td>\n",
       "      <td>536373</td>\n",
       "      <td>1</td>\n",
       "      <td>15.3</td>\n",
       "      <td>15.3</td>\n",
       "    </tr>\n",
       "    <tr>\n",
       "      <th>6</th>\n",
       "      <td>12/1/2020 9:32</td>\n",
       "      <td>17850.0</td>\n",
       "      <td>Dog and Puppy Pads</td>\n",
       "      <td>85123A</td>\n",
       "      <td>536375</td>\n",
       "      <td>1</td>\n",
       "      <td>15.3</td>\n",
       "      <td>15.3</td>\n",
       "    </tr>\n",
       "    <tr>\n",
       "      <th>12</th>\n",
       "      <td>12/1/2020 9:57</td>\n",
       "      <td>16029.0</td>\n",
       "      <td>Earth Rated Dog Poop Bags</td>\n",
       "      <td>85099B</td>\n",
       "      <td>536386</td>\n",
       "      <td>17</td>\n",
       "      <td>168.3</td>\n",
       "      <td>9.9</td>\n",
       "    </tr>\n",
       "    <tr>\n",
       "      <th>14</th>\n",
       "      <td>12/1/2020 10:19</td>\n",
       "      <td>17511.0</td>\n",
       "      <td>Dog and Puppy Pads</td>\n",
       "      <td>85123A</td>\n",
       "      <td>536390</td>\n",
       "      <td>11</td>\n",
       "      <td>168.3</td>\n",
       "      <td>15.3</td>\n",
       "    </tr>\n",
       "  </tbody>\n",
       "</table>\n",
       "</div>"
      ],
      "text/plain": [
       "   transaction_date  customer_id                description stock_code  \\\n",
       "0    12/1/2020 8:26      17850.0         Dog and Puppy Pads     85123A   \n",
       "4    12/1/2020 9:02      17850.0         Dog and Puppy Pads     85123A   \n",
       "6    12/1/2020 9:32      17850.0         Dog and Puppy Pads     85123A   \n",
       "12   12/1/2020 9:57      16029.0  Earth Rated Dog Poop Bags     85099B   \n",
       "14  12/1/2020 10:19      17511.0         Dog and Puppy Pads     85123A   \n",
       "\n",
       "    invoice_no  quantity   sale  unit_price  \n",
       "0       536365         1   15.3        15.3  \n",
       "4       536373         1   15.3        15.3  \n",
       "6       536375         1   15.3        15.3  \n",
       "12      536386        17  168.3         9.9  \n",
       "14      536390        11  168.3        15.3  "
      ]
     },
     "execution_count": 70,
     "metadata": {},
     "output_type": "execute_result"
    }
   ],
   "source": [
    "sale_df[inconsistent_rows].head()"
   ]
  },
  {
   "cell_type": "code",
   "execution_count": 71,
   "id": "b71ffe76",
   "metadata": {},
   "outputs": [
    {
     "data": {
      "text/html": [
       "<div>\n",
       "<style scoped>\n",
       "    .dataframe tbody tr th:only-of-type {\n",
       "        vertical-align: middle;\n",
       "    }\n",
       "\n",
       "    .dataframe tbody tr th {\n",
       "        vertical-align: top;\n",
       "    }\n",
       "\n",
       "    .dataframe thead th {\n",
       "        text-align: right;\n",
       "    }\n",
       "</style>\n",
       "<table border=\"1\" class=\"dataframe\">\n",
       "  <thead>\n",
       "    <tr style=\"text-align: right;\">\n",
       "      <th></th>\n",
       "      <th>transaction_date</th>\n",
       "      <th>customer_id</th>\n",
       "      <th>description</th>\n",
       "      <th>stock_code</th>\n",
       "      <th>invoice_no</th>\n",
       "      <th>quantity</th>\n",
       "      <th>sale</th>\n",
       "      <th>unit_price</th>\n",
       "    </tr>\n",
       "  </thead>\n",
       "  <tbody>\n",
       "    <tr>\n",
       "      <th>0</th>\n",
       "      <td>12/1/2020 8:26</td>\n",
       "      <td>17850.0</td>\n",
       "      <td>Dog and Puppy Pads</td>\n",
       "      <td>85123</td>\n",
       "      <td>536365</td>\n",
       "      <td>1</td>\n",
       "      <td>15.3</td>\n",
       "      <td>15.3</td>\n",
       "    </tr>\n",
       "    <tr>\n",
       "      <th>4</th>\n",
       "      <td>12/1/2020 9:02</td>\n",
       "      <td>17850.0</td>\n",
       "      <td>Dog and Puppy Pads</td>\n",
       "      <td>85123</td>\n",
       "      <td>536373</td>\n",
       "      <td>1</td>\n",
       "      <td>15.3</td>\n",
       "      <td>15.3</td>\n",
       "    </tr>\n",
       "    <tr>\n",
       "      <th>6</th>\n",
       "      <td>12/1/2020 9:32</td>\n",
       "      <td>17850.0</td>\n",
       "      <td>Dog and Puppy Pads</td>\n",
       "      <td>85123</td>\n",
       "      <td>536375</td>\n",
       "      <td>1</td>\n",
       "      <td>15.3</td>\n",
       "      <td>15.3</td>\n",
       "    </tr>\n",
       "    <tr>\n",
       "      <th>12</th>\n",
       "      <td>12/1/2020 9:57</td>\n",
       "      <td>16029.0</td>\n",
       "      <td>Earth Rated Dog Poop Bags</td>\n",
       "      <td>85099</td>\n",
       "      <td>536386</td>\n",
       "      <td>17</td>\n",
       "      <td>168.3</td>\n",
       "      <td>9.9</td>\n",
       "    </tr>\n",
       "    <tr>\n",
       "      <th>14</th>\n",
       "      <td>12/1/2020 10:19</td>\n",
       "      <td>17511.0</td>\n",
       "      <td>Dog and Puppy Pads</td>\n",
       "      <td>85123</td>\n",
       "      <td>536390</td>\n",
       "      <td>11</td>\n",
       "      <td>168.3</td>\n",
       "      <td>15.3</td>\n",
       "    </tr>\n",
       "  </tbody>\n",
       "</table>\n",
       "</div>"
      ],
      "text/plain": [
       "   transaction_date  customer_id                description stock_code  \\\n",
       "0    12/1/2020 8:26      17850.0         Dog and Puppy Pads      85123   \n",
       "4    12/1/2020 9:02      17850.0         Dog and Puppy Pads      85123   \n",
       "6    12/1/2020 9:32      17850.0         Dog and Puppy Pads      85123   \n",
       "12   12/1/2020 9:57      16029.0  Earth Rated Dog Poop Bags      85099   \n",
       "14  12/1/2020 10:19      17511.0         Dog and Puppy Pads      85123   \n",
       "\n",
       "    invoice_no  quantity   sale  unit_price  \n",
       "0       536365         1   15.3        15.3  \n",
       "4       536373         1   15.3        15.3  \n",
       "6       536375         1   15.3        15.3  \n",
       "12      536386        17  168.3         9.9  \n",
       "14      536390        11  168.3        15.3  "
      ]
     },
     "execution_count": 71,
     "metadata": {},
     "output_type": "execute_result"
    }
   ],
   "source": [
    "sale_df[\"stock_code\"] = sale_df[\"stock_code\"].str.replace(r\"\\D\", \"\", regex=True)\n",
    "sale_df[inconsistent_rows].head()"
   ]
  },
  {
   "cell_type": "code",
   "execution_count": 72,
   "id": "9539a56e",
   "metadata": {},
   "outputs": [],
   "source": [
    "sale_df[\"stock_code\"] = sale_df[\"stock_code\"].astype(\"int\")"
   ]
  },
  {
   "cell_type": "markdown",
   "id": "17dc0cac",
   "metadata": {},
   "source": [
    "Se identificaron y corrigieron los valores inconsistentes en la columna stock_code al eliminar las letras al final de los códigos. Esto aseguró la uniformidad de los datos, permitiendo que la columna se convirtiera al tipo de dato entero (int) para futuras operaciones y análisis numéricos."
   ]
  },
  {
   "cell_type": "code",
   "execution_count": 73,
   "id": "6ea9ffa6",
   "metadata": {},
   "outputs": [
    {
     "data": {
      "text/plain": [
       "array(['Dog and Puppy Pads', 'Pet Odor Eliminator',\n",
       "       'Rechargeable Pet Nail Grinder',\n",
       "       'ChomChom Pet Hair Remover - Reusable Cat and Dog Hair Remover',\n",
       "       'Milk-Bone MaroSnacks Dog Treats with Real Bone',\n",
       "       'Pet Grooming Brush',\n",
       "       'Litter Slide Multi-Cat Scented Clumping Clay Cat Litter',\n",
       "       'NexGard Chew for Dogs', 'Earth Rated Dog Poop Bags',\n",
       "       'ProBiotic Supplements for Dogs',\n",
       "       'Sheba Perfect Portions Pat Wet Cat Food',\n",
       "       'Indoor Pet Camera (Wi-Fi)', 'Canned Cat Food',\n",
       "       'Taste of the Wild High Prairie Grain-Free Dry Dog Food 40lb',\n",
       "       'Memory Foam Pet Beds for Small, Medium, and Large Dogs and Cats',\n",
       "       'UltraSound Dog Barking Deterrent', 'Indoor Pet Camera',\n",
       "       'Pet Hair Remover', 'Purina Pro Plan Adult Sensitive Skin',\n",
       "       'Purina ONE SmartBlend Natural Adult Chicken 10lb',\n",
       "       'Templation Soft Cat Treats'], dtype=object)"
      ]
     },
     "execution_count": 73,
     "metadata": {},
     "output_type": "execute_result"
    }
   ],
   "source": [
    "sale_df[\"description\"].unique()"
   ]
  },
  {
   "cell_type": "code",
   "execution_count": 74,
   "id": "4267c346",
   "metadata": {},
   "outputs": [],
   "source": [
    "sale_df[\"description\"] = sale_df[\"description\"].astype(\"category\")\n",
    "sale_df.rename(columns={\"description\":\"sale_product_description\"}, inplace=True)"
   ]
  },
  {
   "cell_type": "markdown",
   "id": "c1347469",
   "metadata": {},
   "source": [
    "La inspección de los valores únicos en la columna description no reveló inconsistencias. La columna se convirtió a tipo de dato category y se renombró de description a sale_product_description para asegurar que los datos estén listos para el análisis."
   ]
  },
  {
   "cell_type": "code",
   "execution_count": 75,
   "id": "9d521dc9",
   "metadata": {},
   "outputs": [],
   "source": [
    "sale_df[\"customer_id\"] = sale_df[\"customer_id\"].fillna(-1).astype(\"int\")"
   ]
  },
  {
   "cell_type": "markdown",
   "id": "2ead3d1f",
   "metadata": {},
   "source": [
    "Se reemplazaron los valores nulos en la columna customer_id por -1. Esta estrategia de etiquetado permite la identificación de los registros sin un ID de cliente y asegura la conversión de la columna a un tipo de dato entero (int) para su correcto uso en futuros análisis."
   ]
  },
  {
   "cell_type": "code",
   "execution_count": 76,
   "id": "a8267c7d",
   "metadata": {},
   "outputs": [],
   "source": [
    "sale_df[\"transaction_date\"] = pd.to_datetime(sale_df[\"transaction_date\"])"
   ]
  },
  {
   "cell_type": "markdown",
   "id": "028c7819",
   "metadata": {},
   "source": [
    "La columna transaction_date se convirtió a tipo de dato datetime. Esto es un paso crucial para habilitar análisis basados en el tiempo, como el estudio de tendencias, la estacionalidad y la frecuencia de las transacciones."
   ]
  },
  {
   "cell_type": "code",
   "execution_count": 77,
   "id": "826c16f4",
   "metadata": {},
   "outputs": [
    {
     "name": "stdout",
     "output_type": "stream",
     "text": [
      "<class 'pandas.core.frame.DataFrame'>\n",
      "Index: 23152 entries, 0 to 25064\n",
      "Data columns (total 8 columns):\n",
      " #   Column                    Non-Null Count  Dtype         \n",
      "---  ------                    --------------  -----         \n",
      " 0   transaction_date          23152 non-null  datetime64[ns]\n",
      " 1   customer_id               23152 non-null  int64         \n",
      " 2   sale_product_description  23152 non-null  category      \n",
      " 3   stock_code                23152 non-null  int64         \n",
      " 4   invoice_no                23152 non-null  int64         \n",
      " 5   quantity                  23152 non-null  int64         \n",
      " 6   sale                      23152 non-null  float64       \n",
      " 7   unit_price                23152 non-null  float64       \n",
      "dtypes: category(1), datetime64[ns](1), float64(2), int64(4)\n",
      "memory usage: 1.4 MB\n"
     ]
    }
   ],
   "source": [
    "sale_df.info()"
   ]
  },
  {
   "cell_type": "code",
   "execution_count": 78,
   "id": "f82bc525",
   "metadata": {},
   "outputs": [
    {
     "data": {
      "text/plain": [
       "0"
      ]
     },
     "execution_count": 78,
     "metadata": {},
     "output_type": "execute_result"
    }
   ],
   "source": [
    "duplicated_rows = sale_df.duplicated(keep=False)\n",
    "duplicated_rows_count = int(duplicated_rows.sum())\n",
    "duplicated_rows_count"
   ]
  },
  {
   "cell_type": "markdown",
   "id": "23f6857e",
   "metadata": {},
   "source": [
    "El dataframe fue inspeccionado nuevamente tras la limpieza, lo que confirmó que todas las columnas tienen 25065 registros no nulos y que los tipos de datos son correctos. Adicionalmente, la verificación de duplicados no arrojó resultados, lo que confirma la singularidad de cada registro."
   ]
  },
  {
   "cell_type": "code",
   "execution_count": 79,
   "id": "01239da5",
   "metadata": {},
   "outputs": [],
   "source": [
    "interim_data_path = data_interim_dir(\"sale.csv\")\n",
    "sale_df.to_csv(interim_data_path, index=False)"
   ]
  }
 ],
 "metadata": {
  "kernelspec": {
   "display_name": "customer_segmentation",
   "language": "python",
   "name": "python3"
  },
  "language_info": {
   "codemirror_mode": {
    "name": "ipython",
    "version": 3
   },
   "file_extension": ".py",
   "mimetype": "text/x-python",
   "name": "python",
   "nbconvert_exporter": "python",
   "pygments_lexer": "ipython3",
   "version": "3.10.15"
  }
 },
 "nbformat": 4,
 "nbformat_minor": 5
}
